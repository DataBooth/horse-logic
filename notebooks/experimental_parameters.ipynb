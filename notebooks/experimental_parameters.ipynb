{
 "cells": [
  {
   "cell_type": "code",
   "execution_count": null,
   "metadata": {},
   "outputs": [],
   "source": [
    "from dataclasses import dataclass\n",
    "import pandas as pd\n",
    "from pathlib import Path"
   ]
  },
  {
   "cell_type": "code",
   "execution_count": null,
   "metadata": {},
   "outputs": [],
   "source": [
    "@dataclass\n",
    "class Parameter:\n",
    "    name: str\n",
    "    val: float\n",
    "    unit: str\n",
    "    minimum_value: float\n",
    "    maximum_value: float\n",
    "    description: str"
   ]
  },
  {
   "cell_type": "code",
   "execution_count": null,
   "metadata": {},
   "outputs": [],
   "source": [
    "def parse_text_for_na(value):\n",
    "    if pd.isna(value):\n",
    "        return \"\"\n",
    "    else:\n",
    "        return value"
   ]
  },
  {
   "cell_type": "code",
   "execution_count": null,
   "metadata": {},
   "outputs": [],
   "source": [
    "def get_parameter(name, experimental_parameters_df):\n",
    "    row = experimental_parameters_df.loc[experimental_parameters_df[\"name\"] == name]\n",
    "    if row.drop(columns=[\"name\"]).isnull().values.all():\n",
    "        return None\n",
    "    return Parameter(\n",
    "        name=name,\n",
    "        val=row[\"value\"].values[0],\n",
    "        minimum_value=row[\"minimum_value\"].values[0],\n",
    "        maximum_value=row[\"maximum_value\"].values[0],\n",
    "        unit=parse_text_for_na(row[\"unit\"].values[0]),\n",
    "        description=parse_text_for_na(row[\"description\"].values[0]),\n",
    "    )"
   ]
  },
  {
   "cell_type": "code",
   "execution_count": null,
   "metadata": {},
   "outputs": [],
   "source": [
    "def load_validate_experimental_parameters(parameters_xlsx=\"../data/experimental_parameters.xlsx\"):\n",
    "    if not Path(parameters_xlsx).exists():\n",
    "        raise FileNotFoundError(f\"{parameters_xlsx} does not exist\")\n",
    "    experimental_parameters_df = pd.read_excel(parameters_xlsx)\n",
    "    par = {}\n",
    "    for name in experimental_parameters_df[\"name\"]:\n",
    "        parameter = get_parameter(name, experimental_parameters_df)\n",
    "        if parameter is not None:\n",
    "            if parameter.val < parameter.minimum_value or parameter.val > parameter.maximum_value:\n",
    "                print(f\"{parameter.name} is out of range: {parameter.val} {parameter.unit}\")\n",
    "            print(f\"{parameter.name}: {parameter.val} {parameter.unit} - Validated\")\n",
    "            par[name] = parameter\n",
    "    return par\n",
    "  "
   ]
  },
  {
   "cell_type": "code",
   "execution_count": null,
   "metadata": {},
   "outputs": [],
   "source": [
    "p = load_validate_experimental_parameters()"
   ]
  },
  {
   "cell_type": "code",
   "execution_count": null,
   "metadata": {},
   "outputs": [],
   "source": [
    "p[\"N_SUBJECT\"]"
   ]
  },
  {
   "cell_type": "code",
   "execution_count": null,
   "metadata": {},
   "outputs": [],
   "source": [
    "p[\"N_SUBJECT\"].val"
   ]
  },
  {
   "cell_type": "code",
   "execution_count": null,
   "metadata": {},
   "outputs": [],
   "source": [
    "for p in p.values():\n",
    "    print(p.name, p.val, p.unit)"
   ]
  },
  {
   "cell_type": "code",
   "execution_count": null,
   "metadata": {},
   "outputs": [],
   "source": []
  }
 ],
 "metadata": {
  "kernelspec": {
   "display_name": ".venv",
   "language": "python",
   "name": "python3"
  },
  "language_info": {
   "codemirror_mode": {
    "name": "ipython",
    "version": 3
   },
   "file_extension": ".py",
   "mimetype": "text/x-python",
   "name": "python",
   "nbconvert_exporter": "python",
   "pygments_lexer": "ipython3",
   "version": "3.10.12"
  }
 },
 "nbformat": 4,
 "nbformat_minor": 2
}
