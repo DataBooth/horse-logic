{
 "cells": [
  {
   "attachments": {},
   "cell_type": "markdown",
   "metadata": {
    "id": "MjCebZdNSpGa"
   },
   "source": [
    "# Simulation of an analog signal from a senor and subsequent analysis\n",
    "\n",
    "michael@databooth.com.au"
   ]
  },
  {
   "attachments": {},
   "cell_type": "markdown",
   "metadata": {
    "id": "ZZvv9cdjYUxZ"
   },
   "source": [
    "## Initial setup\n",
    "\n",
    "Load the required packages (libraries)"
   ]
  },
  {
   "cell_type": "code",
   "execution_count": 1,
   "metadata": {
    "id": "HDd52flGNDSX"
   },
   "outputs": [],
   "source": [
    "# DONE: !pip install RPi.GPIO - only works on Raspberry Pi"
   ]
  },
  {
   "cell_type": "code",
   "execution_count": 2,
   "metadata": {
    "id": "w1Sw3Hp5SoHt"
   },
   "outputs": [],
   "source": [
    "import time\n",
    "import random\n",
    "from datetime import datetime, timedelta\n",
    "import pandas as pd\n",
    "from pathlib import Path\n",
    "import matplotlib.pyplot as plt\n",
    "import uuid"
   ]
  },
  {
   "cell_type": "code",
   "execution_count": 3,
   "metadata": {
    "id": "JgASJ7s0UC0a"
   },
   "outputs": [
    {
     "name": "stdout",
     "output_type": "stream",
     "text": [
      "Import error: RPi.GPIO - No module named 'RPi'\n"
     ]
    }
   ],
   "source": [
    "try:\n",
    "    import RPi.GPIO as GPIO\n",
    "\n",
    "    GPIO.setmode(GPIO.BCM)\n",
    "    GPIO.setup(18, GPIO.IN)\n",
    "except Exception as e:\n",
    "    print(f\"Import error: RPi.GPIO - {e}\")"
   ]
  },
  {
   "cell_type": "code",
   "execution_count": 4,
   "metadata": {
    "id": "dBvCj0jMT95d"
   },
   "outputs": [],
   "source": [
    "N_OBSERVATION = 50\n",
    "MAX_TIME_EXPERIMENT_SECONDS = 2 * 60\n",
    "MAX_SENSOR_VALUE = 100.0\n",
    "MAX_TIME_DIFF_SECONDS = 10\n",
    "DATA_FILE = Path.cwd().parent / \"data\" / \"sensor_data.csv\""
   ]
  },
  {
   "attachments": {},
   "cell_type": "markdown",
   "metadata": {
    "id": "kdWOnn0JYcpG"
   },
   "source": [
    "Define any custom (user-defined) functions"
   ]
  },
  {
   "cell_type": "code",
   "execution_count": 5,
   "metadata": {},
   "outputs": [],
   "source": [
    "def generate_uuid_from_datetime(current_time):\n",
    "    timestamp = current_time.timestamp()\n",
    "    unique_id = uuid.uuid5(uuid.NAMESPACE_DNS, str(timestamp))\n",
    "    return unique_id"
   ]
  },
  {
   "cell_type": "code",
   "execution_count": 6,
   "metadata": {
    "id": "VgJ5dg0rS4GO"
   },
   "outputs": [],
   "source": [
    "def read_analog_sensor(max_sensor_value=MAX_SENSOR_VALUE):\n",
    "    sensor_value = random.uniform(\n",
    "        0.0, max_sensor_value\n",
    "    )  # this is returning a number in this (arbitrary range) - to simulate a reading from the sensor\n",
    "    return sensor_value"
   ]
  },
  {
   "cell_type": "code",
   "execution_count": 7,
   "metadata": {
    "id": "3awuOq3_USUP"
   },
   "outputs": [],
   "source": [
    "def acquire_data(dt, data, sensor_data):\n",
    "    sensor_data.append((dt, data))  # storing the data (for later use)\n",
    "    return None"
   ]
  },
  {
   "attachments": {},
   "cell_type": "markdown",
   "metadata": {
    "id": "Vlt3jUAJYzvN"
   },
   "source": [
    "## Data Collection\n",
    "\n",
    "Simulate the collection (capture) of data from the sensor for up to `N_OBSERVATION` observations (including random times between observations) or until the `MAX_TIME_EXPERIMENT_SECONDS` is reached."
   ]
  },
  {
   "cell_type": "code",
   "execution_count": 8,
   "metadata": {
    "id": "FDLxdF0RThpu"
   },
   "outputs": [],
   "source": [
    "def collect_simulated_data(n_observation=None, max_time=None):\n",
    "    sensor_data = []\n",
    "    acquisition_datetime = datetime.now()\n",
    "    file_uuid = generate_uuid_from_datetime(acquisition_datetime)\n",
    "    if n_observation is None:\n",
    "        n_observation = N_OBSERVATION\n",
    "    if max_time is None:\n",
    "        max_time = MAX_TIME_EXPERIMENT_SECONDS\n",
    "    print(\n",
    "        f\"Starting data collection at {acquisition_datetime} for maximum of {n_observation} observations or {max_time} seconds\\n\"\n",
    "    )\n",
    "    stop_datetime = acquisition_datetime + timedelta(seconds=max_time)\n",
    "    counter = 0\n",
    "    while counter < N_OBSERVATION and acquisition_datetime < stop_datetime:\n",
    "        counter += 1\n",
    "        sensor_value = read_analog_sensor()\n",
    "        time_ran = random.uniform(\n",
    "            0, MAX_TIME_DIFF_SECONDS\n",
    "        )  # time between 0 and 5 seconds\n",
    "        acquisition_datetime += timedelta(seconds=time_ran)\n",
    "        print(\n",
    "            f\"{counter: 3d}: {acquisition_datetime}; Time since last: {time_ran:.3f} s; Sensor value: {sensor_value:.7f}\"\n",
    "        )\n",
    "        acquire_data(acquisition_datetime, sensor_value, sensor_data)\n",
    "        time.sleep(time_ran)\n",
    "    return sensor_data, file_uuid"
   ]
  },
  {
   "cell_type": "code",
   "execution_count": 9,
   "metadata": {
    "id": "qDX4Z1SLTwPY"
   },
   "outputs": [],
   "source": [
    "# Example of running 1 experiment\n",
    "\n",
    "# sensor_data, file_uuid = collect_simulated_data()"
   ]
  },
  {
   "attachments": {},
   "cell_type": "markdown",
   "metadata": {},
   "source": [
    "## Save data to file\n",
    "\n",
    "With a unique filename (based on the current date and time)"
   ]
  },
  {
   "cell_type": "code",
   "execution_count": 17,
   "metadata": {},
   "outputs": [],
   "source": [
    "def save_data_df(data_df, uuid, file_name=None):\n",
    "    if file_name is None:\n",
    "        file_name = DATA_FILE\n",
    "    file_name = file_name.as_posix().replace(\".csv\", \"\")\n",
    "    file_name = f\"{file_name}_{uuid}\"\n",
    "    print(f\"\\nSaving data to:\\n{file_name}.csv and\\n{file_name}.parquet\")\n",
    "    data_df.to_csv(f\"{file_name}.csv\", index=True)\n",
    "    data_df.to_parquet(f\"{file_name}.parquet\")\n",
    "    return None"
   ]
  },
  {
   "cell_type": "code",
   "execution_count": 18,
   "metadata": {
    "id": "Rqxpv1YuUtp9"
   },
   "outputs": [],
   "source": [
    "def create_save_data_df(sensor_data, file_uuid):\n",
    "    data_df = pd.DataFrame(sensor_data, columns=[\"Collection time\", \"Sensor value\"])\n",
    "    data_df[\"time_diff\"] = data_df[\"Collection time\"].diff() / pd.Timedelta(seconds=1)\n",
    "    save_data_df(data_df, file_uuid)\n",
    "    return data_df"
   ]
  },
  {
   "cell_type": "code",
   "execution_count": 19,
   "metadata": {},
   "outputs": [
    {
     "name": "stdout",
     "output_type": "stream",
     "text": [
      "\n",
      "Experiment #0 --------------------------------------------\n",
      "\n",
      "Starting data collection at 2023-06-18 13:18:38.053529 for maximum of 50 observations or 120 seconds\n",
      "\n",
      "  1: 2023-06-18 13:18:44.226174; Time since last: 6.173 s; Sensor value: 55.8066297\n",
      "  2: 2023-06-18 13:18:51.353763; Time since last: 7.128 s; Sensor value: 25.3783356\n",
      "  3: 2023-06-18 13:18:56.811532; Time since last: 5.458 s; Sensor value: 33.7445029\n",
      "  4: 2023-06-18 13:19:06.533568; Time since last: 9.722 s; Sensor value: 38.1418668\n",
      "  5: 2023-06-18 13:19:06.570259; Time since last: 0.037 s; Sensor value: 6.8434025\n",
      "  6: 2023-06-18 13:19:14.703060; Time since last: 8.133 s; Sensor value: 14.9637179\n",
      "  7: 2023-06-18 13:19:18.019232; Time since last: 3.316 s; Sensor value: 84.7259606\n",
      "  8: 2023-06-18 13:19:27.430211; Time since last: 9.411 s; Sensor value: 22.3830399\n",
      "  9: 2023-06-18 13:19:34.714839; Time since last: 7.285 s; Sensor value: 90.7076566\n",
      " 10: 2023-06-18 13:19:38.707499; Time since last: 3.993 s; Sensor value: 8.3295989\n",
      " 11: 2023-06-18 13:19:42.891461; Time since last: 4.184 s; Sensor value: 40.2738280\n",
      " 12: 2023-06-18 13:19:45.485597; Time since last: 2.594 s; Sensor value: 77.3083018\n",
      " 13: 2023-06-18 13:19:46.682302; Time since last: 1.197 s; Sensor value: 14.3140974\n",
      " 14: 2023-06-18 13:19:49.518509; Time since last: 2.836 s; Sensor value: 19.1518789\n",
      " 15: 2023-06-18 13:19:49.744055; Time since last: 0.226 s; Sensor value: 25.9762043\n",
      " 16: 2023-06-18 13:19:53.412075; Time since last: 3.668 s; Sensor value: 86.6178087\n",
      " 17: 2023-06-18 13:19:55.517814; Time since last: 2.106 s; Sensor value: 9.7946419\n",
      " 18: 2023-06-18 13:20:03.605217; Time since last: 8.087 s; Sensor value: 25.8576658\n",
      " 19: 2023-06-18 13:20:09.991899; Time since last: 6.387 s; Sensor value: 20.7151130\n",
      " 20: 2023-06-18 13:20:19.952608; Time since last: 9.961 s; Sensor value: 16.9883732\n",
      " 21: 2023-06-18 13:20:21.907613; Time since last: 1.955 s; Sensor value: 20.3288993\n",
      " 22: 2023-06-18 13:20:28.452417; Time since last: 6.545 s; Sensor value: 84.0203069\n",
      " 23: 2023-06-18 13:20:31.331564; Time since last: 2.879 s; Sensor value: 65.1172350\n",
      " 24: 2023-06-18 13:20:38.558810; Time since last: 7.227 s; Sensor value: 52.8291362\n",
      "\n",
      "Saving data to:\n",
      "/Users/mjboothaus/code/github/databooth/cath-henshall/data/sensor_data_80d3fa0e-cafd-51c9-8d3c-97930d5cfff1.csv and\n",
      "/Users/mjboothaus/code/github/databooth/cath-henshall/data/sensor_data_80d3fa0e-cafd-51c9-8d3c-97930d5cfff1.parquet\n",
      "\n",
      "Experiment #1 --------------------------------------------\n",
      "\n",
      "Starting data collection at 2023-06-18 13:20:38.688460 for maximum of 50 observations or 120 seconds\n",
      "\n",
      "  1: 2023-06-18 13:20:41.294133; Time since last: 2.606 s; Sensor value: 0.7409076\n",
      "  2: 2023-06-18 13:20:42.679675; Time since last: 1.386 s; Sensor value: 92.4207306\n",
      "  3: 2023-06-18 13:20:45.348183; Time since last: 2.669 s; Sensor value: 39.6717105\n",
      "  4: 2023-06-18 13:20:46.767541; Time since last: 1.419 s; Sensor value: 74.0795312\n",
      "  5: 2023-06-18 13:20:50.710779; Time since last: 3.943 s; Sensor value: 57.5113684\n",
      "  6: 2023-06-18 13:20:51.728010; Time since last: 1.017 s; Sensor value: 54.0455711\n",
      "  7: 2023-06-18 13:20:53.984339; Time since last: 2.256 s; Sensor value: 85.0467288\n",
      "  8: 2023-06-18 13:21:00.082615; Time since last: 6.098 s; Sensor value: 43.0399372\n",
      "  9: 2023-06-18 13:21:07.094337; Time since last: 7.012 s; Sensor value: 19.3416788\n",
      " 10: 2023-06-18 13:21:15.004896; Time since last: 7.911 s; Sensor value: 49.9717832\n",
      " 11: 2023-06-18 13:21:24.497289; Time since last: 9.492 s; Sensor value: 75.7933058\n",
      " 12: 2023-06-18 13:21:24.861653; Time since last: 0.364 s; Sensor value: 45.6432677\n",
      " 13: 2023-06-18 13:21:34.528075; Time since last: 9.666 s; Sensor value: 98.2518820\n",
      " 14: 2023-06-18 13:21:42.825334; Time since last: 8.297 s; Sensor value: 35.6027818\n",
      " 15: 2023-06-18 13:21:52.364964; Time since last: 9.540 s; Sensor value: 95.5297145\n",
      " 16: 2023-06-18 13:21:53.815079; Time since last: 1.450 s; Sensor value: 96.4508138\n",
      " 17: 2023-06-18 13:21:58.224958; Time since last: 4.410 s; Sensor value: 40.9500315\n",
      " 18: 2023-06-18 13:22:04.292366; Time since last: 6.067 s; Sensor value: 99.3658109\n",
      " 19: 2023-06-18 13:22:07.269964; Time since last: 2.978 s; Sensor value: 91.5732555\n",
      " 20: 2023-06-18 13:22:14.100658; Time since last: 6.831 s; Sensor value: 47.2387746\n",
      " 21: 2023-06-18 13:22:19.124080; Time since last: 5.023 s; Sensor value: 45.9683108\n",
      " 22: 2023-06-18 13:22:21.170442; Time since last: 2.046 s; Sensor value: 71.2394922\n",
      " 23: 2023-06-18 13:22:28.517776; Time since last: 7.347 s; Sensor value: 83.0858456\n",
      " 24: 2023-06-18 13:22:31.840642; Time since last: 3.323 s; Sensor value: 62.9493137\n",
      " 25: 2023-06-18 13:22:33.321272; Time since last: 1.481 s; Sensor value: 70.1130378\n",
      " 26: 2023-06-18 13:22:37.656001; Time since last: 4.335 s; Sensor value: 15.6079843\n",
      " 27: 2023-06-18 13:22:40.923050; Time since last: 3.267 s; Sensor value: 62.0366119\n",
      "\n",
      "Saving data to:\n",
      "/Users/mjboothaus/code/github/databooth/cath-henshall/data/sensor_data_aa45a537-923a-5cb2-accf-e868d7b95aae.csv and\n",
      "/Users/mjboothaus/code/github/databooth/cath-henshall/data/sensor_data_aa45a537-923a-5cb2-accf-e868d7b95aae.parquet\n"
     ]
    }
   ],
   "source": [
    "for n_experiment in range(1, 3):\n",
    "    print(\n",
    "        f\"\\nExperiment #{n_experiment} --------------------------------------------\\n\"\n",
    "    )\n",
    "    sensor_data, file_uuid = collect_simulated_data()\n",
    "    data_df = create_save_data_df(sensor_data, file_uuid)"
   ]
  },
  {
   "attachments": {},
   "cell_type": "markdown",
   "metadata": {
    "id": "YjFKo3JYbJ10"
   },
   "source": [
    "## Check data"
   ]
  },
  {
   "cell_type": "code",
   "execution_count": null,
   "metadata": {
    "id": "JcVvg9GpaCEj"
   },
   "outputs": [],
   "source": [
    "# TODO: Add some data reasonableness check here"
   ]
  }
 ],
 "metadata": {
  "colab": {
   "private_outputs": true,
   "provenance": []
  },
  "kernelspec": {
   "display_name": "Python 3",
   "name": "python3"
  },
  "language_info": {
   "codemirror_mode": {
    "name": "ipython",
    "version": 3
   },
   "file_extension": ".py",
   "mimetype": "text/x-python",
   "name": "python",
   "nbconvert_exporter": "python",
   "pygments_lexer": "ipython3",
   "version": "3.9.17"
  }
 },
 "nbformat": 4,
 "nbformat_minor": 0
}
