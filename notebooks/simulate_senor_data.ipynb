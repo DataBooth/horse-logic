{
 "cells": [
  {
   "attachments": {},
   "cell_type": "markdown",
   "metadata": {
    "id": "MjCebZdNSpGa"
   },
   "source": [
    "# Simulation of an analog signal from a senor and subsequent analysis\n",
    "\n",
    "michael@databooth.com.au"
   ]
  },
  {
   "attachments": {},
   "cell_type": "markdown",
   "metadata": {
    "id": "ZZvv9cdjYUxZ"
   },
   "source": [
    "## Initial setup\n",
    "\n",
    "Load the required packages (libraries)"
   ]
  },
  {
   "cell_type": "code",
   "execution_count": 1,
   "metadata": {
    "id": "HDd52flGNDSX"
   },
   "outputs": [],
   "source": [
    "# DONE: !pip install RPi.GPIO - only works on Raspberry Pi"
   ]
  },
  {
   "cell_type": "code",
   "execution_count": 2,
   "metadata": {
    "id": "w1Sw3Hp5SoHt"
   },
   "outputs": [],
   "source": [
    "import time\n",
    "import random\n",
    "from datetime import datetime, timedelta\n",
    "import pandas as pd\n",
    "from pathlib import Path\n",
    "import matplotlib.pyplot as plt\n",
    "import uuid\n",
    "import contextlib\n"
   ]
  },
  {
   "cell_type": "code",
   "execution_count": 3,
   "metadata": {
    "id": "JgASJ7s0UC0a"
   },
   "outputs": [
    {
     "name": "stdout",
     "output_type": "stream",
     "text": [
      "Import error: RPi.GPIO - No module named 'RPi'\n"
     ]
    }
   ],
   "source": [
    "try:\n",
    "    import RPi.GPIO as GPIO\n",
    "\n",
    "    GPIO.setmode(GPIO.BCM)\n",
    "    GPIO.setup(18, GPIO.IN)\n",
    "except Exception as e:\n",
    "    print(f\"Import error: RPi.GPIO - {e}\")"
   ]
  },
  {
   "cell_type": "code",
   "execution_count": 4,
   "metadata": {
    "id": "dBvCj0jMT95d"
   },
   "outputs": [],
   "source": [
    "N_OBSERVATION = 30\n",
    "MAX_TIME_EXPERIMENT_SECONDS = 2 * 60\n",
    "MAX_SENSOR_VALUE = 100.0\n",
    "MAX_TIME_DIFF_SECONDS = 10\n",
    "DATA_FILE = Path.cwd().parent / \"data\" / \"sensor_data.csv\""
   ]
  },
  {
   "attachments": {},
   "cell_type": "markdown",
   "metadata": {
    "id": "kdWOnn0JYcpG"
   },
   "source": [
    "Define any custom (user-defined) functions"
   ]
  },
  {
   "cell_type": "code",
   "execution_count": 5,
   "metadata": {},
   "outputs": [],
   "source": [
    "def generate_uuid_from_datetime(current_time):\n",
    "    timestamp = current_time.timestamp()\n",
    "    unique_id = uuid.uuid5(uuid.NAMESPACE_DNS, str(timestamp))\n",
    "    return unique_id"
   ]
  },
  {
   "cell_type": "code",
   "execution_count": 6,
   "metadata": {
    "id": "VgJ5dg0rS4GO"
   },
   "outputs": [],
   "source": [
    "def read_analog_sensor(max_sensor_value=MAX_SENSOR_VALUE):\n",
    "    sensor_value = random.uniform(\n",
    "        0.0, max_sensor_value\n",
    "    )  # this is returning a number in this (arbitrary range) - to simulate a reading from the sensor\n",
    "    return sensor_value"
   ]
  },
  {
   "cell_type": "code",
   "execution_count": 7,
   "metadata": {
    "id": "3awuOq3_USUP"
   },
   "outputs": [],
   "source": [
    "def acquire_data(dt, data, sensor_data):\n",
    "    sensor_data.append((dt, data))  # storing the data (for later use)\n",
    "    return None"
   ]
  },
  {
   "attachments": {},
   "cell_type": "markdown",
   "metadata": {
    "id": "Vlt3jUAJYzvN"
   },
   "source": [
    "## Data Collection\n",
    "\n",
    "Simulate the collection (capture) of data from the sensor for up to `N_OBSERVATION` observations (including random times between observations) or until the `MAX_TIME_EXPERIMENT_SECONDS` is reached."
   ]
  },
  {
   "cell_type": "code",
   "execution_count": 8,
   "metadata": {
    "id": "FDLxdF0RThpu"
   },
   "outputs": [],
   "source": [
    "def collect_simulated_data(n_observation=None, max_time=None):\n",
    "    sensor_data = []\n",
    "    acquisition_datetime = datetime.now()\n",
    "    file_uuid = generate_uuid_from_datetime(acquisition_datetime)\n",
    "    if n_observation is None:\n",
    "        n_observation = N_OBSERVATION\n",
    "    if max_time is None:\n",
    "        max_time = MAX_TIME_EXPERIMENT_SECONDS\n",
    "    print(\n",
    "        f\"Starting data collection at {acquisition_datetime} for maximum of {n_observation} observations or {max_time} seconds\\n\"\n",
    "    )\n",
    "    stop_datetime = acquisition_datetime + timedelta(seconds=max_time)\n",
    "    counter = 0\n",
    "    while counter < N_OBSERVATION and acquisition_datetime < stop_datetime:\n",
    "        counter += 1\n",
    "        sensor_value = read_analog_sensor()\n",
    "        time_ran = random.uniform(0, MAX_TIME_DIFF_SECONDS)  # time between 0 and MAX_TIME_DIFF_SECONDS\n",
    "        acquisition_datetime += timedelta(seconds=time_ran)\n",
    "        print(f\"{counter: 3d}: {acquisition_datetime}; Time since last: {time_ran:.3f} s; Sensor value: {sensor_value:.7f}\")\n",
    "        acquire_data(acquisition_datetime, sensor_value, sensor_data)\n",
    "        time.sleep(time_ran)\n",
    "    return sensor_data, file_uuid"
   ]
  },
  {
   "attachments": {},
   "cell_type": "markdown",
   "metadata": {},
   "source": [
    "## Save data to file\n",
    "\n",
    "With a unique filename (based on the current date and time)"
   ]
  },
  {
   "cell_type": "code",
   "execution_count": 9,
   "metadata": {},
   "outputs": [],
   "source": [
    "def save_data_df(data_df, uuid, file_name=None):\n",
    "    if file_name is None:\n",
    "        file_name = DATA_FILE\n",
    "    file_name = file_name.as_posix().replace(\".csv\", \"\")\n",
    "    file_name = f\"{file_name}_{uuid}\"\n",
    "    print(f\"\\nSaving data to:\\n{file_name}.csv and\\n{file_name}.parquet\")\n",
    "    data_df.to_csv(f\"{file_name}.csv\", index=True)\n",
    "    data_df.to_parquet(f\"{file_name}.parquet\")\n",
    "    return None"
   ]
  },
  {
   "cell_type": "code",
   "execution_count": 10,
   "metadata": {
    "id": "Rqxpv1YuUtp9"
   },
   "outputs": [],
   "source": [
    "def create_save_data_df(sensor_data, file_uuid):\n",
    "    data_df = pd.DataFrame(sensor_data, columns=[\"Collection time\", \"Sensor value\"])\n",
    "    data_df[\"time_diff\"] = data_df[\"Collection time\"].diff() / pd.Timedelta(seconds=1)\n",
    "    save_data_df(data_df, file_uuid)\n",
    "    return None"
   ]
  },
  {
   "attachments": {},
   "cell_type": "markdown",
   "metadata": {},
   "source": [
    "## Run experiments"
   ]
  },
  {
   "cell_type": "code",
   "execution_count": 11,
   "metadata": {},
   "outputs": [],
   "source": [
    "def run_experiments(n_experiment=2):\n",
    "    for i_experiment in range(1, n_experiment + 1):\n",
    "        print(f\"\\nExperiment #{i_experiment} --------------------------------------------\\n\")\n",
    "        sensor_data, file_uuid = collect_simulated_data()\n",
    "        create_save_data_df(sensor_data, file_uuid)\n",
    "    return None\n"
   ]
  },
  {
   "cell_type": "code",
   "execution_count": 12,
   "metadata": {},
   "outputs": [],
   "source": [
    "#TODO: Following code allows for redirecting the print output to a file (inside with statement)\n",
    "\n",
    "experiment_log = Path.cwd().parent / \"data\" / \"experiment_log.txt\"\n",
    "with open(experiment_log, \"a\") as out_file:\n",
    "    with contextlib.redirect_stdout(out_file):\n",
    "        run_experiments(30)\n",
    "\n",
    "# or run with output in the notebook\n",
    "\n",
    "# run_experiments(30)\n"
   ]
  }
 ],
 "metadata": {
  "colab": {
   "private_outputs": true,
   "provenance": []
  },
  "kernelspec": {
   "display_name": "Python 3",
   "name": "python3"
  },
  "language_info": {
   "codemirror_mode": {
    "name": "ipython",
    "version": 3
   },
   "file_extension": ".py",
   "mimetype": "text/x-python",
   "name": "python",
   "nbconvert_exporter": "python",
   "pygments_lexer": "ipython3",
   "version": "3.9.17"
  }
 },
 "nbformat": 4,
 "nbformat_minor": 0
}
