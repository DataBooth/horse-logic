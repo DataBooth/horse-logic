{
 "cells": [
  {
   "attachments": {},
   "cell_type": "markdown",
   "metadata": {
    "id": "MjCebZdNSpGa"
   },
   "source": [
    "# Simulation of an analog signal from a senor and subsequent analysis\n",
    "\n",
    "michael@databooth.com.au"
   ]
  },
  {
   "attachments": {},
   "cell_type": "markdown",
   "metadata": {
    "id": "ZZvv9cdjYUxZ"
   },
   "source": [
    "## Initial setup\n",
    "\n",
    "Load the required packages (libraries)"
   ]
  },
  {
   "cell_type": "code",
   "execution_count": 1,
   "metadata": {
    "id": "HDd52flGNDSX"
   },
   "outputs": [],
   "source": [
    "# DONE: !pip install RPi.GPIO - only works on Raspberry Pi"
   ]
  },
  {
   "cell_type": "code",
   "execution_count": 2,
   "metadata": {
    "id": "w1Sw3Hp5SoHt"
   },
   "outputs": [],
   "source": [
    "import time\n",
    "import random\n",
    "from datetime import datetime, timedelta\n",
    "import pandas as pd\n",
    "from pathlib import Path\n",
    "import matplotlib.pyplot as plt\n",
    "import uuid\n",
    "import contextlib"
   ]
  },
  {
   "cell_type": "code",
   "execution_count": 3,
   "metadata": {
    "id": "JgASJ7s0UC0a"
   },
   "outputs": [
    {
     "name": "stdout",
     "output_type": "stream",
     "text": [
      "Import error: RPi.GPIO - No module named 'RPi'\n"
     ]
    }
   ],
   "source": [
    "try:\n",
    "    import RPi.GPIO as GPIO\n",
    "\n",
    "    GPIO.setmode(GPIO.BCM)\n",
    "    GPIO.setup(18, GPIO.IN)\n",
    "except Exception as e:\n",
    "    print(f\"Import error: RPi.GPIO - {e}\")"
   ]
  },
  {
   "cell_type": "code",
   "execution_count": 4,
   "metadata": {
    "id": "dBvCj0jMT95d"
   },
   "outputs": [],
   "source": [
    "N_OBSERVATION = 30\n",
    "MAX_TIME_EXPERIMENT_SECONDS = 2 * 60\n",
    "MAX_SENSOR_VALUE = 100.0\n",
    "MAX_TIME_DIFF_SECONDS = 10\n",
    "DATA_FILE = Path.cwd().parent / \"data\" / \"sensor_data.csv\""
   ]
  },
  {
   "attachments": {},
   "cell_type": "markdown",
   "metadata": {
    "id": "kdWOnn0JYcpG"
   },
   "source": [
    "Define any custom (user-defined) functions"
   ]
  },
  {
   "cell_type": "code",
   "execution_count": 5,
   "metadata": {},
   "outputs": [],
   "source": [
    "def generate_uuid_from_datetime(current_time):\n",
    "    timestamp = current_time.timestamp()\n",
    "    unique_id = uuid.uuid5(uuid.NAMESPACE_DNS, str(timestamp))\n",
    "    return unique_id"
   ]
  },
  {
   "cell_type": "code",
   "execution_count": 6,
   "metadata": {
    "id": "VgJ5dg0rS4GO"
   },
   "outputs": [],
   "source": [
    "def read_analog_sensor(max_sensor_value=MAX_SENSOR_VALUE):\n",
    "    sensor_value = random.uniform(\n",
    "        0.0, max_sensor_value\n",
    "    )  # this is returning a number in this (arbitrary range) - to simulate a reading from the sensor\n",
    "    return sensor_value"
   ]
  },
  {
   "cell_type": "code",
   "execution_count": 7,
   "metadata": {
    "id": "3awuOq3_USUP"
   },
   "outputs": [],
   "source": [
    "def acquire_data(dt, data, sensor_data):\n",
    "    sensor_data.append((dt, data))  # storing the data (for later use)\n",
    "    return None"
   ]
  },
  {
   "attachments": {},
   "cell_type": "markdown",
   "metadata": {
    "id": "Vlt3jUAJYzvN"
   },
   "source": [
    "## Data Collection\n",
    "\n",
    "Simulate the collection (capture) of data from the sensor for up to `N_OBSERVATION` observations (including random times between observations) or until the `MAX_TIME_EXPERIMENT_SECONDS` is reached."
   ]
  },
  {
   "cell_type": "code",
   "execution_count": 8,
   "metadata": {
    "id": "FDLxdF0RThpu"
   },
   "outputs": [],
   "source": [
    "def collect_simulated_data(n_observation=None, max_time=None):\n",
    "    sensor_data = []\n",
    "    acquisition_datetime = datetime.now()\n",
    "    file_uuid = generate_uuid_from_datetime(acquisition_datetime)\n",
    "    if n_observation is None:\n",
    "        n_observation = N_OBSERVATION\n",
    "    if max_time is None:\n",
    "        max_time = MAX_TIME_EXPERIMENT_SECONDS\n",
    "    print(\n",
    "        f\"Starting data collection at {acquisition_datetime} for maximum of {n_observation} observations or {max_time} seconds\\n\"\n",
    "    )\n",
    "    stop_datetime = acquisition_datetime + timedelta(seconds=max_time)\n",
    "    counter = 0\n",
    "    while counter < N_OBSERVATION and acquisition_datetime < stop_datetime:\n",
    "        counter += 1\n",
    "        sensor_value = read_analog_sensor()\n",
    "        time_ran = random.uniform(\n",
    "            0, MAX_TIME_DIFF_SECONDS\n",
    "        )  # time between 0 and MAX_TIME_DIFF_SECONDS\n",
    "        acquisition_datetime += timedelta(seconds=time_ran)\n",
    "        print(\n",
    "            f\"{counter: 3d}: {acquisition_datetime}; Time since last: {time_ran:.3f} s; Sensor value: {sensor_value:.7f}\"\n",
    "        )\n",
    "        acquire_data(acquisition_datetime, sensor_value, sensor_data)\n",
    "        time.sleep(time_ran)\n",
    "    return sensor_data, file_uuid"
   ]
  },
  {
   "attachments": {},
   "cell_type": "markdown",
   "metadata": {},
   "source": [
    "## Save data to file\n",
    "\n",
    "With a unique filename (based on the current date and time)"
   ]
  },
  {
   "cell_type": "code",
   "execution_count": 9,
   "metadata": {},
   "outputs": [],
   "source": [
    "def save_data_df(data_df, uuid, file_name=None):\n",
    "    if file_name is None:\n",
    "        file_name = DATA_FILE\n",
    "    file_name = file_name.as_posix().replace(\".csv\", \"\")\n",
    "    file_name = f\"{file_name}_{uuid}\"\n",
    "    print(f\"\\nSaving data to:\\n{file_name}.csv and\\n{file_name}.parquet\")\n",
    "    data_df.to_csv(f\"{file_name}.csv\", index=True)\n",
    "    data_df.to_parquet(f\"{file_name}.parquet\")\n",
    "    return None"
   ]
  },
  {
   "cell_type": "code",
   "execution_count": 10,
   "metadata": {
    "id": "Rqxpv1YuUtp9"
   },
   "outputs": [],
   "source": [
    "def create_save_data_df(sensor_data, file_uuid):\n",
    "    data_df = pd.DataFrame(sensor_data, columns=[\"Collection time\", \"Sensor value\"])\n",
    "    data_df[\"time_diff\"] = data_df[\"Collection time\"].diff() / pd.Timedelta(seconds=1)\n",
    "    save_data_df(data_df, file_uuid)\n",
    "    return None"
   ]
  },
  {
   "attachments": {},
   "cell_type": "markdown",
   "metadata": {},
   "source": [
    "## Run experiments"
   ]
  },
  {
   "cell_type": "code",
   "execution_count": 11,
   "metadata": {},
   "outputs": [],
   "source": [
    "def run_experiments(n_experiment=2):\n",
    "    for i_experiment in range(1, n_experiment + 1):\n",
    "        print(\n",
    "            f\"\\nExperiment #{i_experiment} --------------------------------------------\\n\"\n",
    "        )\n",
    "        sensor_data, file_uuid = collect_simulated_data()\n",
    "        create_save_data_df(sensor_data, file_uuid)\n",
    "    return None"
   ]
  },
  {
   "cell_type": "code",
   "execution_count": 12,
   "metadata": {},
   "outputs": [
    {
     "name": "stdout",
     "output_type": "stream",
     "text": [
      "\n",
      "Experiment #1 --------------------------------------------\n",
      "\n",
      "Starting data collection at 2023-06-18 18:17:54.772113 for maximum of 50 observations or 120 seconds\n",
      "\n",
      "  1: 2023-06-18 18:17:59.144586; Time since last: 4.372 s; Sensor value: 10.0784166\n",
      "  2: 2023-06-18 18:18:01.097233; Time since last: 1.953 s; Sensor value: 43.6785271\n",
      "  3: 2023-06-18 18:18:01.939047; Time since last: 0.842 s; Sensor value: 99.6553426\n",
      "  4: 2023-06-18 18:18:07.927096; Time since last: 5.988 s; Sensor value: 58.1545037\n",
      "  5: 2023-06-18 18:18:11.802263; Time since last: 3.875 s; Sensor value: 32.7089969\n",
      "  6: 2023-06-18 18:18:15.790596; Time since last: 3.988 s; Sensor value: 19.8209511\n",
      "  7: 2023-06-18 18:18:25.010211; Time since last: 9.220 s; Sensor value: 55.9292653\n",
      "  8: 2023-06-18 18:18:31.430746; Time since last: 6.421 s; Sensor value: 12.2046753\n",
      "  9: 2023-06-18 18:18:39.243120; Time since last: 7.812 s; Sensor value: 47.1309055\n",
      " 10: 2023-06-18 18:18:45.001532; Time since last: 5.758 s; Sensor value: 51.6841070\n",
      " 11: 2023-06-18 18:18:52.910912; Time since last: 7.909 s; Sensor value: 55.5044677\n",
      " 12: 2023-06-18 18:18:53.888046; Time since last: 0.977 s; Sensor value: 98.2462529\n",
      " 13: 2023-06-18 18:18:59.832340; Time since last: 5.944 s; Sensor value: 42.5083187\n",
      " 14: 2023-06-18 18:19:09.250636; Time since last: 9.418 s; Sensor value: 25.9919169\n",
      " 15: 2023-06-18 18:19:14.113968; Time since last: 4.863 s; Sensor value: 95.6700984\n",
      " 16: 2023-06-18 18:19:22.003000; Time since last: 7.889 s; Sensor value: 14.5619105\n",
      " 17: 2023-06-18 18:19:28.146564; Time since last: 6.144 s; Sensor value: 62.6016888\n",
      " 18: 2023-06-18 18:19:29.793062; Time since last: 1.646 s; Sensor value: 62.6337935\n",
      " 19: 2023-06-18 18:19:32.151447; Time since last: 2.358 s; Sensor value: 21.9009081\n",
      " 20: 2023-06-18 18:19:37.493316; Time since last: 5.342 s; Sensor value: 0.0293044\n",
      " 21: 2023-06-18 18:19:41.427485; Time since last: 3.934 s; Sensor value: 24.5909254\n",
      " 22: 2023-06-18 18:19:47.445803; Time since last: 6.018 s; Sensor value: 54.7982822\n",
      " 23: 2023-06-18 18:19:53.774249; Time since last: 6.328 s; Sensor value: 95.2361918\n",
      " 24: 2023-06-18 18:19:56.992478; Time since last: 3.218 s; Sensor value: 52.3064390\n",
      "\n",
      "Saving data to:\n",
      "/Users/mjboothaus/code/github/databooth/cath-henshall/data/sensor_data_6b520054-1448-5cff-beb3-ac7a42cc7821.csv and\n",
      "/Users/mjboothaus/code/github/databooth/cath-henshall/data/sensor_data_6b520054-1448-5cff-beb3-ac7a42cc7821.parquet\n",
      "\n",
      "Experiment #2 --------------------------------------------\n",
      "\n",
      "Starting data collection at 2023-06-18 18:19:57.551770 for maximum of 50 observations or 120 seconds\n",
      "\n",
      "  1: 2023-06-18 18:19:59.814422; Time since last: 2.263 s; Sensor value: 47.2372957\n",
      "  2: 2023-06-18 18:20:02.583273; Time since last: 2.769 s; Sensor value: 10.5005891\n",
      "  3: 2023-06-18 18:20:09.458147; Time since last: 6.875 s; Sensor value: 98.3679760\n",
      "  4: 2023-06-18 18:20:15.236970; Time since last: 5.779 s; Sensor value: 10.6134307\n",
      "  5: 2023-06-18 18:20:19.193842; Time since last: 3.957 s; Sensor value: 17.2759668\n",
      "  6: 2023-06-18 18:20:22.119404; Time since last: 2.926 s; Sensor value: 70.5220014\n",
      "  7: 2023-06-18 18:20:31.632818; Time since last: 9.513 s; Sensor value: 15.2854689\n",
      "  8: 2023-06-18 18:20:34.181301; Time since last: 2.548 s; Sensor value: 35.5459874\n",
      "  9: 2023-06-18 18:20:40.365974; Time since last: 6.185 s; Sensor value: 76.8624107\n",
      " 10: 2023-06-18 18:20:43.128383; Time since last: 2.762 s; Sensor value: 27.7706692\n",
      " 11: 2023-06-18 18:20:43.521459; Time since last: 0.393 s; Sensor value: 26.8035203\n",
      " 12: 2023-06-18 18:20:46.232149; Time since last: 2.711 s; Sensor value: 48.0126568\n",
      " 13: 2023-06-18 18:20:54.313398; Time since last: 8.081 s; Sensor value: 28.2494760\n",
      " 14: 2023-06-18 18:20:56.214536; Time since last: 1.901 s; Sensor value: 50.3770371\n",
      " 15: 2023-06-18 18:21:00.250188; Time since last: 4.036 s; Sensor value: 72.3323268\n",
      " 16: 2023-06-18 18:21:03.770080; Time since last: 3.520 s; Sensor value: 9.3846298\n",
      " 17: 2023-06-18 18:21:04.875230; Time since last: 1.105 s; Sensor value: 0.1037895\n",
      " 18: 2023-06-18 18:21:10.451955; Time since last: 5.577 s; Sensor value: 84.9363117\n",
      " 19: 2023-06-18 18:21:16.514823; Time since last: 6.063 s; Sensor value: 30.6033808\n",
      " 20: 2023-06-18 18:21:17.063985; Time since last: 0.549 s; Sensor value: 52.9199033\n",
      " 21: 2023-06-18 18:21:24.159612; Time since last: 7.096 s; Sensor value: 57.9270837\n",
      " 22: 2023-06-18 18:21:24.726215; Time since last: 0.567 s; Sensor value: 95.3998600\n",
      " 23: 2023-06-18 18:21:31.761303; Time since last: 7.035 s; Sensor value: 90.8777095\n",
      " 24: 2023-06-18 18:21:32.397575; Time since last: 0.636 s; Sensor value: 34.8609120\n",
      " 25: 2023-06-18 18:21:39.303839; Time since last: 6.906 s; Sensor value: 10.3618738\n",
      " 26: 2023-06-18 18:21:39.885578; Time since last: 0.582 s; Sensor value: 87.7721379\n",
      " 27: 2023-06-18 18:21:41.251219; Time since last: 1.366 s; Sensor value: 81.3531853\n",
      " 28: 2023-06-18 18:21:48.136976; Time since last: 6.886 s; Sensor value: 70.5049207\n",
      " 29: 2023-06-18 18:21:48.987718; Time since last: 0.851 s; Sensor value: 56.3275838\n",
      " 30: 2023-06-18 18:21:52.259381; Time since last: 3.272 s; Sensor value: 28.4623925\n",
      " 31: 2023-06-18 18:22:01.554725; Time since last: 9.295 s; Sensor value: 27.4007238\n",
      "\n",
      "Saving data to:\n",
      "/Users/mjboothaus/code/github/databooth/cath-henshall/data/sensor_data_984b9816-e5ab-52fc-acd1-4702b31a4f0b.csv and\n",
      "/Users/mjboothaus/code/github/databooth/cath-henshall/data/sensor_data_984b9816-e5ab-52fc-acd1-4702b31a4f0b.parquet\n"
     ]
    }
   ],
   "source": [
    "# TODO: Following code allows for redirecting the print output to a file (inside with statement)\n",
    "\n",
    "# experiment_log = Path.cwd().parent / \"data\" / \"experiment_log.txt\"\n",
    "# with open(experiment_log, \"a\") as out_file:\n",
    "#     with contextlib.redirect_stdout(out_file):\n",
    "#         CODE TO RUN\n",
    "\n",
    "run_experiments()"
   ]
  }
 ],
 "metadata": {
  "colab": {
   "private_outputs": true,
   "provenance": []
  },
  "kernelspec": {
   "display_name": "Python 3",
   "name": "python3"
  },
  "language_info": {
   "codemirror_mode": {
    "name": "ipython",
    "version": 3
   },
   "file_extension": ".py",
   "mimetype": "text/x-python",
   "name": "python",
   "nbconvert_exporter": "python",
   "pygments_lexer": "ipython3",
   "version": "3.9.17"
  }
 },
 "nbformat": 4,
 "nbformat_minor": 0
}
