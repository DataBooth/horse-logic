{
 "cells": [
  {
   "attachments": {},
   "cell_type": "markdown",
   "metadata": {
    "id": "MjCebZdNSpGa"
   },
   "source": [
    "# Simulation of an analog signal from a senor and subsequent analysis\n",
    "\n",
    "michael@databooth.com.au"
   ]
  },
  {
   "attachments": {},
   "cell_type": "markdown",
   "metadata": {
    "id": "ZZvv9cdjYUxZ"
   },
   "source": [
    "## Initial setup\n",
    "\n",
    "Load the required packages (libraries)"
   ]
  },
  {
   "cell_type": "code",
   "execution_count": 1,
   "metadata": {
    "id": "HDd52flGNDSX"
   },
   "outputs": [],
   "source": [
    "# DONE: !pip install RPi.GPIO - only works on Raspberry Pi"
   ]
  },
  {
   "cell_type": "code",
   "execution_count": 2,
   "metadata": {
    "id": "w1Sw3Hp5SoHt"
   },
   "outputs": [],
   "source": [
    "import time\n",
    "import random\n",
    "from datetime import datetime, timedelta\n",
    "import pandas as pd\n",
    "from pathlib import Path\n",
    "import matplotlib.pyplot as plt\n",
    "import uuid"
   ]
  },
  {
   "cell_type": "code",
   "execution_count": 3,
   "metadata": {
    "id": "JgASJ7s0UC0a"
   },
   "outputs": [
    {
     "name": "stdout",
     "output_type": "stream",
     "text": [
      "Import error: RPi.GPIO - No module named 'RPi'\n"
     ]
    }
   ],
   "source": [
    "try:\n",
    "    import RPi.GPIO as GPIO\n",
    "\n",
    "    GPIO.setmode(GPIO.BCM)\n",
    "    GPIO.setup(18, GPIO.IN)\n",
    "except Exception as e:\n",
    "    print(f\"Import error: RPi.GPIO - {e}\")"
   ]
  },
  {
   "cell_type": "code",
   "execution_count": 4,
   "metadata": {
    "id": "dBvCj0jMT95d"
   },
   "outputs": [],
   "source": [
    "N_OBSERVATION = 50\n",
    "MAX_TIME_EXPERIMENT_SECONDS = 2 * 60\n",
    "MAX_SENSOR_VALUE = 100.0\n",
    "MAX_TIME_DIFF_SECONDS = 10\n",
    "DATA_FILE = Path.cwd().parent / \"data\" / \"sensor_data.csv\""
   ]
  },
  {
   "attachments": {},
   "cell_type": "markdown",
   "metadata": {
    "id": "kdWOnn0JYcpG"
   },
   "source": [
    "Define any custom (user-defined) functions"
   ]
  },
  {
   "cell_type": "code",
   "execution_count": 5,
   "metadata": {},
   "outputs": [],
   "source": [
    "def generate_uuid_from_datetime(current_time):\n",
    "    timestamp = current_time.timestamp()\n",
    "    unique_id = uuid.uuid5(uuid.NAMESPACE_DNS, str(timestamp))\n",
    "    return unique_id"
   ]
  },
  {
   "cell_type": "code",
   "execution_count": 6,
   "metadata": {
    "id": "VgJ5dg0rS4GO"
   },
   "outputs": [],
   "source": [
    "def read_analog_sensor(max_sensor_value=MAX_SENSOR_VALUE):\n",
    "    sensor_value = random.uniform(\n",
    "        0.0, max_sensor_value\n",
    "    )  # this is returning a number in this (arbitrary range) - to simulate a reading from the sensor\n",
    "    return sensor_value"
   ]
  },
  {
   "cell_type": "code",
   "execution_count": 7,
   "metadata": {
    "id": "3awuOq3_USUP"
   },
   "outputs": [],
   "source": [
    "def acquire_data(dt, data, sensor_data):\n",
    "    sensor_data.append((dt, data))  # storing the data (for later use)\n",
    "    return None"
   ]
  },
  {
   "attachments": {},
   "cell_type": "markdown",
   "metadata": {
    "id": "Vlt3jUAJYzvN"
   },
   "source": [
    "## Data Collection\n",
    "\n",
    "Simulate the collection (capture) of data from the sensor for up to `N_OBSERVATION` observations (including random times between observations) or until the `MAX_TIME_EXPERIMENT_SECONDS` is reached."
   ]
  },
  {
   "cell_type": "code",
   "execution_count": 8,
   "metadata": {
    "id": "FDLxdF0RThpu"
   },
   "outputs": [],
   "source": [
    "def collect_data(n_observation=None, max_time=None):\n",
    "    sensor_data = []\n",
    "    acquisition_datetime = datetime.now()\n",
    "    file_uuid = generate_uuid_from_datetime(acquisition_datetime)\n",
    "    if n_observation is None:\n",
    "        n_observation = N_OBSERVATION\n",
    "    if max_time is None:\n",
    "        max_time = MAX_TIME_EXPERIMENT_SECONDS\n",
    "    print(\n",
    "        f\"Starting data collection at {acquisition_datetime} for maximum of {n_observation} observations or {max_time} seconds\\n\"\n",
    "    )\n",
    "    stop_datetime = acquisition_datetime + timedelta(seconds=max_time)\n",
    "    counter = 0\n",
    "    while counter < N_OBSERVATION and acquisition_datetime < stop_datetime:\n",
    "        counter += 1\n",
    "        sensor_value = read_analog_sensor()\n",
    "        time_ran = random.uniform(0, MAX_TIME_DIFF_SECONDS)  # time between 0 and 5 seconds\n",
    "        acquisition_datetime += timedelta(seconds=time_ran)\n",
    "        print(f\"{counter: 3d}: {acquisition_datetime}; Time since last: {time_ran:.3f} s; Sensor value: {sensor_value:.7f}\")\n",
    "        acquire_data(acquisition_datetime, sensor_value, sensor_data)\n",
    "        time.sleep(time_ran)\n",
    "    return sensor_data, file_uuid"
   ]
  },
  {
   "cell_type": "code",
   "execution_count": 9,
   "metadata": {
    "id": "qDX4Z1SLTwPY"
   },
   "outputs": [
    {
     "name": "stdout",
     "output_type": "stream",
     "text": [
      "Starting data collection at 2023-06-17 17:23:59.526513 for maximum of 50 observations or 120 seconds\n",
      "\n",
      "  1: 2023-06-17 17:24:04.528671; Time since last: 5.002 s; Sensor value: 86.5118337\n",
      "  2: 2023-06-17 17:24:04.640893; Time since last: 0.112 s; Sensor value: 19.8745697\n",
      "  3: 2023-06-17 17:24:09.880334; Time since last: 5.239 s; Sensor value: 30.2197561\n",
      "  4: 2023-06-17 17:24:12.681557; Time since last: 2.801 s; Sensor value: 63.0271255\n",
      "  5: 2023-06-17 17:24:22.427097; Time since last: 9.746 s; Sensor value: 35.4083322\n",
      "  6: 2023-06-17 17:24:28.158105; Time since last: 5.731 s; Sensor value: 11.7581502\n",
      "  7: 2023-06-17 17:24:28.410143; Time since last: 0.252 s; Sensor value: 4.3005913\n",
      "  8: 2023-06-17 17:24:33.921748; Time since last: 5.512 s; Sensor value: 95.0738576\n",
      "  9: 2023-06-17 17:24:43.282739; Time since last: 9.361 s; Sensor value: 79.8042668\n",
      " 10: 2023-06-17 17:24:52.228795; Time since last: 8.946 s; Sensor value: 85.9268059\n",
      " 11: 2023-06-17 17:24:53.144454; Time since last: 0.916 s; Sensor value: 37.9141521\n",
      " 12: 2023-06-17 17:25:00.579241; Time since last: 7.435 s; Sensor value: 75.4097524\n",
      " 13: 2023-06-17 17:25:06.904581; Time since last: 6.325 s; Sensor value: 90.0333030\n",
      " 14: 2023-06-17 17:25:08.873043; Time since last: 1.968 s; Sensor value: 91.2484391\n",
      " 15: 2023-06-17 17:25:14.424397; Time since last: 5.551 s; Sensor value: 92.0004228\n",
      " 16: 2023-06-17 17:25:22.676450; Time since last: 8.252 s; Sensor value: 93.8485484\n",
      " 17: 2023-06-17 17:25:29.743101; Time since last: 7.067 s; Sensor value: 77.2446499\n",
      " 18: 2023-06-17 17:25:30.342679; Time since last: 0.600 s; Sensor value: 31.3922874\n",
      " 19: 2023-06-17 17:25:34.649733; Time since last: 4.307 s; Sensor value: 25.4715474\n",
      " 20: 2023-06-17 17:25:40.003431; Time since last: 5.354 s; Sensor value: 83.2411198\n",
      " 21: 2023-06-17 17:25:47.686551; Time since last: 7.683 s; Sensor value: 91.1014819\n",
      " 22: 2023-06-17 17:25:56.792181; Time since last: 9.106 s; Sensor value: 10.9394835\n",
      " 23: 2023-06-17 17:26:01.817140; Time since last: 5.025 s; Sensor value: 6.4145342\n"
     ]
    }
   ],
   "source": [
    "sensor_data, file_uuid = collect_data()"
   ]
  },
  {
   "attachments": {},
   "cell_type": "markdown",
   "metadata": {},
   "source": [
    "## Save data to file\n",
    "\n",
    "With a unique filename (based on the current date and time)"
   ]
  },
  {
   "cell_type": "code",
   "execution_count": 10,
   "metadata": {},
   "outputs": [],
   "source": [
    "def save_data_df(data_df, uuid, file_name=None):\n",
    "    if file_name is None:\n",
    "        file_name = DATA_FILE\n",
    "    file_name = file_name.as_posix().replace(\".csv\", \"\")\n",
    "    data_df.to_csv(f\"{file_name}_{uuid}.csv\", index=True)\n",
    "    return None"
   ]
  },
  {
   "cell_type": "code",
   "execution_count": 11,
   "metadata": {
    "id": "Rqxpv1YuUtp9"
   },
   "outputs": [],
   "source": [
    "def create_save_data_df(sensor_data, file_uuid):\n",
    "    data_df = pd.DataFrame(sensor_data, columns=[\"Collection time\", \"Sensor value\"])\n",
    "    data_df[\"time_diff\"] = data_df[\"Collection time\"].diff() / pd.Timedelta(seconds=1)\n",
    "    save_data_df(data_df, file_uuid)\n",
    "    return data_df"
   ]
  },
  {
   "cell_type": "code",
   "execution_count": 12,
   "metadata": {},
   "outputs": [],
   "source": [
    "data_df = create_save_data_df(sensor_data, file_uuid)"
   ]
  },
  {
   "attachments": {},
   "cell_type": "markdown",
   "metadata": {
    "id": "YjFKo3JYbJ10"
   },
   "source": [
    "## Transform and Analyse data"
   ]
  },
  {
   "cell_type": "code",
   "execution_count": 13,
   "metadata": {
    "id": "JcVvg9GpaCEj"
   },
   "outputs": [],
   "source": [
    "# TODO: Add some data reasonableness check here"
   ]
  },
  {
   "cell_type": "code",
   "execution_count": 14,
   "metadata": {},
   "outputs": [],
   "source": [
    "def plot_data_histogram(df, plot_column_name, normalise=True):\n",
    "    plt.figure(figsize=(10, 6))\n",
    "    plt.hist(df[plot_column_name], bins=10, color=\"blue\", edgecolor=\"black\", density=normalise)\n",
    "    plt.title(f\"Histogram of {plot_column_name}\")\n",
    "    plt.xlabel(f\"{plot_column_name}\")\n",
    "    plt.ylabel(\"Frequency\")\n",
    "    plt.show()\n",
    "    return None"
   ]
  },
  {
   "cell_type": "code",
   "execution_count": 15,
   "metadata": {},
   "outputs": [],
   "source": [
    "def median_latency(df):\n",
    "    median_time_diff = df[\"time_diff\"].median()\n",
    "    return median_time_diff"
   ]
  },
  {
   "cell_type": "code",
   "execution_count": 16,
   "metadata": {},
   "outputs": [
    {
     "data": {
      "image/png": "[encoded data removed]",
      "text/plain": [
       "<Figure size 1000x600 with 1 Axes>"
      ]
     },
     "metadata": {},
     "output_type": "display_data"
    }
   ],
   "source": [
    "plot_data_histogram(data_df, \"time_diff\")"
   ]
  },
  {
   "cell_type": "code",
   "execution_count": 17,
   "metadata": {
    "id": "VnBgvH0EVdAl"
   },
   "outputs": [],
   "source": [
    "latency = median_latency(data_df)"
   ]
  },
  {
   "cell_type": "code",
   "execution_count": 18,
   "metadata": {},
   "outputs": [
    {
     "data": {
      "text/plain": [
       "5.5314795"
      ]
     },
     "execution_count": 18,
     "metadata": {},
     "output_type": "execute_result"
    }
   ],
   "source": [
    "latency"
   ]
  }
 ],
 "metadata": {
  "colab": {
   "private_outputs": true,
   "provenance": []
  },
  "kernelspec": {
   "display_name": "Python 3",
   "name": "python3"
  },
  "language_info": {
   "codemirror_mode": {
    "name": "ipython",
    "version": 3
   },
   "file_extension": ".py",
   "mimetype": "text/x-python",
   "name": "python",
   "nbconvert_exporter": "python",
   "pygments_lexer": "ipython3",
   "version": "3.9.17"
  }
 },
 "nbformat": 4,
 "nbformat_minor": 0
}
