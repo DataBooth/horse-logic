{
  "cells": [
    {
      "attachments": {},
      "cell_type": "markdown",
      "metadata": {
        "id": "MjCebZdNSpGa"
      },
      "source": [
        "# Simulation of an analog signal from a senor and subsequent analysis\n",
        "\n",
        "michael@databooth.com.au"
      ]
    },
    {
      "attachments": {},
      "cell_type": "markdown",
      "metadata": {
        "id": "ZZvv9cdjYUxZ"
      },
      "source": [
        "## Initial setup\n",
        "\n",
        "Load the required packages (libraries)"
      ]
    },
    {
      "cell_type": "code",
      "execution_count": 2,
      "metadata": {
        "id": "HDd52flGNDSX"
      },
      "outputs": [],
      "source": [
        "#DONE: !pip install RPi.GPIO - only works on Raspberry Pi"
      ]
    },
    {
      "cell_type": "code",
      "execution_count": 3,
      "metadata": {
        "id": "w1Sw3Hp5SoHt"
      },
      "outputs": [],
      "source": [
        "import time\n",
        "import random\n",
        "from datetime import datetime, timedelta\n",
        "import pandas as pd"
      ]
    },
    {
      "cell_type": "code",
      "execution_count": 4,
      "metadata": {
        "id": "JgASJ7s0UC0a"
      },
      "outputs": [
        {
          "name": "stdout",
          "output_type": "stream",
          "text": [
            "Import error: RPi.GPIO - No module named 'RPi'\n"
          ]
        }
      ],
      "source": [
        "try:\n",
        "  import RPi.GPIO as GPIO\n",
        "  GPIO.setmode(GPIO.BCM)\n",
        "  GPIO.setup(18, GPIO.IN)\n",
        "except Exception as e:\n",
        "  print(f\"Import error: RPi.GPIO - {e}\")"
      ]
    },
    {
      "cell_type": "code",
      "execution_count": 5,
      "metadata": {
        "id": "dBvCj0jMT95d"
      },
      "outputs": [],
      "source": [
        "N_OBSERVATION = 30\n",
        "MAX_TIME_EXPERIMENT_SECONDS = 1 * 60"
      ]
    },
    {
      "attachments": {},
      "cell_type": "markdown",
      "metadata": {
        "id": "kdWOnn0JYcpG"
      },
      "source": [
        "Define any custom (user-defined) functions"
      ]
    },
    {
      "cell_type": "code",
      "execution_count": 6,
      "metadata": {
        "id": "VgJ5dg0rS4GO"
      },
      "outputs": [],
      "source": [
        "def read_analog_sensor():\n",
        "  data = random.uniform(0, 1023)  # this is returning a number in this (arbitrary range) - to simulate a reading from the sensor\n",
        "  return data"
      ]
    },
    {
      "cell_type": "code",
      "execution_count": 7,
      "metadata": {
        "id": "3awuOq3_USUP"
      },
      "outputs": [],
      "source": [
        "def acquire_data(dt, data, sensor_data):\n",
        "  sensor_data.append((dt, data))  # storing the data (for later use)\n",
        "  return None"
      ]
    },
    {
      "attachments": {},
      "cell_type": "markdown",
      "metadata": {
        "id": "Vlt3jUAJYzvN"
      },
      "source": [
        "## Data Collection\n",
        "\n",
        "Simulate the collection (capture) of data from the sensor for `N_SAMPLE` observations (including random times between observations)"
      ]
    },
    {
      "cell_type": "code",
      "execution_count": 8,
      "metadata": {
        "id": "FDLxdF0RThpu"
      },
      "outputs": [],
      "source": [
        "def collect_data(n_observation=None, max_time=None):\n",
        "  sensor_data = []\n",
        "  if n_observation is None:\n",
        "    n_observation = N_OBSERVATION\n",
        "  if max_time is None:\n",
        "    max_time = MAX_TIME_EXPERIMENT_SECONDS\n",
        "  acquisition_datetime = datetime.now()\n",
        "  stop_datetime = acquisition_datetime + timedelta(seconds=max_time)\n",
        "  counter=0\n",
        "  while counter < N_OBSERVATION and acquisition_datetime < stop_datetime:\n",
        "    counter+=1\n",
        "    sensor_value = read_analog_sensor()\n",
        "    time_ran = random.uniform(0, 5)  # time between 0 and 5 seconds\n",
        "    acquisition_datetime += timedelta(seconds=time_ran)\n",
        "    print(f\"{counter}: {acquisition_datetime}; Time since last (sec): {time_ran:.3f} s; Sensor value: {sensor_value:.7f}\")\n",
        "    acquire_data(acquisition_datetime, sensor_value, sensor_data)\n",
        "    time.sleep(time_ran)\n",
        "  return sensor_data"
      ]
    },
    {
      "cell_type": "code",
      "execution_count": 9,
      "metadata": {
        "id": "qDX4Z1SLTwPY"
      },
      "outputs": [
        {
          "name": "stdout",
          "output_type": "stream",
          "text": [
            "1: 2023-06-17 13:51:16.515922; Time since last (sec): 2.173 s; Sensor value: 194.8002377\n",
            "2: 2023-06-17 13:51:17.383868; Time since last (sec): 0.868 s; Sensor value: 832.9432965\n",
            "3: 2023-06-17 13:51:21.580431; Time since last (sec): 4.197 s; Sensor value: 497.5265310\n",
            "4: 2023-06-17 13:51:25.883798; Time since last (sec): 4.303 s; Sensor value: 710.7957157\n",
            "5: 2023-06-17 13:51:26.802853; Time since last (sec): 0.919 s; Sensor value: 367.0091035\n",
            "6: 2023-06-17 13:51:28.024473; Time since last (sec): 1.222 s; Sensor value: 665.4389398\n",
            "7: 2023-06-17 13:51:32.461314; Time since last (sec): 4.437 s; Sensor value: 910.9056312\n",
            "8: 2023-06-17 13:51:34.549970; Time since last (sec): 2.089 s; Sensor value: 442.8602023\n",
            "9: 2023-06-17 13:51:37.268177; Time since last (sec): 2.718 s; Sensor value: 1006.0899982\n",
            "10: 2023-06-17 13:51:40.959720; Time since last (sec): 3.692 s; Sensor value: 189.3198455\n",
            "11: 2023-06-17 13:51:42.126438; Time since last (sec): 1.167 s; Sensor value: 193.0993367\n",
            "12: 2023-06-17 13:51:42.672932; Time since last (sec): 0.546 s; Sensor value: 912.4392113\n",
            "13: 2023-06-17 13:51:44.488212; Time since last (sec): 1.815 s; Sensor value: 852.1364557\n",
            "14: 2023-06-17 13:51:48.007771; Time since last (sec): 3.520 s; Sensor value: 460.8415754\n",
            "15: 2023-06-17 13:51:48.708047; Time since last (sec): 0.700 s; Sensor value: 682.6468290\n",
            "16: 2023-06-17 13:51:52.009286; Time since last (sec): 3.301 s; Sensor value: 977.9333587\n",
            "17: 2023-06-17 13:51:56.464794; Time since last (sec): 4.456 s; Sensor value: 998.5818898\n",
            "18: 2023-06-17 13:51:56.824679; Time since last (sec): 0.360 s; Sensor value: 421.5539508\n",
            "19: 2023-06-17 13:51:58.333402; Time since last (sec): 1.509 s; Sensor value: 994.8096094\n",
            "20: 2023-06-17 13:51:59.757402; Time since last (sec): 1.424 s; Sensor value: 330.0149222\n",
            "21: 2023-06-17 13:52:04.296604; Time since last (sec): 4.539 s; Sensor value: 922.8724187\n",
            "22: 2023-06-17 13:52:07.490367; Time since last (sec): 3.194 s; Sensor value: 112.1343300\n",
            "23: 2023-06-17 13:52:11.918046; Time since last (sec): 4.428 s; Sensor value: 946.9600617\n",
            "24: 2023-06-17 13:52:15.046482; Time since last (sec): 3.128 s; Sensor value: 57.3723035\n"
          ]
        }
      ],
      "source": [
        "sensor_data = collect_data()"
      ]
    },
    {
      "attachments": {},
      "cell_type": "markdown",
      "metadata": {
        "id": "YjFKo3JYbJ10"
      },
      "source": [
        "## Transform and Analyse data"
      ]
    },
    {
      "cell_type": "code",
      "execution_count": 10,
      "metadata": {
        "id": "eibbvs_Dby7p"
      },
      "outputs": [
        {
          "data": {
            "text/plain": [
              "[(datetime.datetime(2023, 6, 17, 13, 51, 16, 515922), 194.8002376689207),\n",
              " (datetime.datetime(2023, 6, 17, 13, 51, 17, 383868), 832.9432965374483),\n",
              " (datetime.datetime(2023, 6, 17, 13, 51, 21, 580431), 497.5265310328642),\n",
              " (datetime.datetime(2023, 6, 17, 13, 51, 25, 883798), 710.7957157362112),\n",
              " (datetime.datetime(2023, 6, 17, 13, 51, 26, 802853), 367.0091035310198),\n",
              " (datetime.datetime(2023, 6, 17, 13, 51, 28, 24473), 665.4389398478572),\n",
              " (datetime.datetime(2023, 6, 17, 13, 51, 32, 461314), 910.9056311561924),\n",
              " (datetime.datetime(2023, 6, 17, 13, 51, 34, 549970), 442.86020234680547),\n",
              " (datetime.datetime(2023, 6, 17, 13, 51, 37, 268177), 1006.0899981521435),\n",
              " (datetime.datetime(2023, 6, 17, 13, 51, 40, 959720), 189.31984546105872),\n",
              " (datetime.datetime(2023, 6, 17, 13, 51, 42, 126438), 193.09933672379023),\n",
              " (datetime.datetime(2023, 6, 17, 13, 51, 42, 672932), 912.4392112949334),\n",
              " (datetime.datetime(2023, 6, 17, 13, 51, 44, 488212), 852.1364557005394),\n",
              " (datetime.datetime(2023, 6, 17, 13, 51, 48, 7771), 460.8415753916329),\n",
              " (datetime.datetime(2023, 6, 17, 13, 51, 48, 708047), 682.6468290001405),\n",
              " (datetime.datetime(2023, 6, 17, 13, 51, 52, 9286), 977.9333586608464),\n",
              " (datetime.datetime(2023, 6, 17, 13, 51, 56, 464794), 998.5818897622771),\n",
              " (datetime.datetime(2023, 6, 17, 13, 51, 56, 824679), 421.55395080004956),\n",
              " (datetime.datetime(2023, 6, 17, 13, 51, 58, 333402), 994.8096094116169),\n",
              " (datetime.datetime(2023, 6, 17, 13, 51, 59, 757402), 330.01492222169645),\n",
              " (datetime.datetime(2023, 6, 17, 13, 52, 4, 296604), 922.8724186775348),\n",
              " (datetime.datetime(2023, 6, 17, 13, 52, 7, 490367), 112.13432995700315),\n",
              " (datetime.datetime(2023, 6, 17, 13, 52, 11, 918046), 946.9600617125753),\n",
              " (datetime.datetime(2023, 6, 17, 13, 52, 15, 46482), 57.37230353902857)]"
            ]
          },
          "execution_count": 10,
          "metadata": {},
          "output_type": "execute_result"
        }
      ],
      "source": [
        "sensor_data"
      ]
    },
    {
      "cell_type": "code",
      "execution_count": null,
      "metadata": {
        "id": "JcVvg9GpaCEj"
      },
      "outputs": [],
      "source": [
        "#TODO: Add some data reasonableness check here"
      ]
    },
    {
      "cell_type": "code",
      "execution_count": 11,
      "metadata": {
        "id": "Rqxpv1YuUtp9"
      },
      "outputs": [],
      "source": [
        "def average_latency(sensor_data):\n",
        "  data = pd.DataFrame(sensor_data, columns=[\"Collection time\", \"Sensor value\"])\n",
        "  data['time_diff'] = data[\"Collection time\"].diff() / pd.Timedelta(seconds=1)\n",
        "  return data # data[\"time_diff\"].mean()"
      ]
    },
    {
      "cell_type": "code",
      "execution_count": 12,
      "metadata": {
        "id": "VnBgvH0EVdAl"
      },
      "outputs": [],
      "source": [
        "latency = average_latency(sensor_data)"
      ]
    },
    {
      "cell_type": "code",
      "execution_count": 13,
      "metadata": {
        "id": "TJRCnrLSWOqr"
      },
      "outputs": [
        {
          "data": {
            "text/html": [
              "<div>\n",
              "<style scoped>\n",
              "    .dataframe tbody tr th:only-of-type {\n",
              "        vertical-align: middle;\n",
              "    }\n",
              "\n",
              "    .dataframe tbody tr th {\n",
              "        vertical-align: top;\n",
              "    }\n",
              "\n",
              "    .dataframe thead th {\n",
              "        text-align: right;\n",
              "    }\n",
              "</style>\n",
              "<table border=\"1\" class=\"dataframe\">\n",
              "  <thead>\n",
              "    <tr style=\"text-align: right;\">\n",
              "      <th></th>\n",
              "      <th>Collection time</th>\n",
              "      <th>Sensor value</th>\n",
              "      <th>time_diff</th>\n",
              "    </tr>\n",
              "  </thead>\n",
              "  <tbody>\n",
              "    <tr>\n",
              "      <th>0</th>\n",
              "      <td>2023-06-17 13:51:16.515922</td>\n",
              "      <td>194.800238</td>\n",
              "      <td>NaN</td>\n",
              "    </tr>\n",
              "    <tr>\n",
              "      <th>1</th>\n",
              "      <td>2023-06-17 13:51:17.383868</td>\n",
              "      <td>832.943297</td>\n",
              "      <td>0.867946</td>\n",
              "    </tr>\n",
              "    <tr>\n",
              "      <th>2</th>\n",
              "      <td>2023-06-17 13:51:21.580431</td>\n",
              "      <td>497.526531</td>\n",
              "      <td>4.196563</td>\n",
              "    </tr>\n",
              "    <tr>\n",
              "      <th>3</th>\n",
              "      <td>2023-06-17 13:51:25.883798</td>\n",
              "      <td>710.795716</td>\n",
              "      <td>4.303367</td>\n",
              "    </tr>\n",
              "    <tr>\n",
              "      <th>4</th>\n",
              "      <td>2023-06-17 13:51:26.802853</td>\n",
              "      <td>367.009104</td>\n",
              "      <td>0.919055</td>\n",
              "    </tr>\n",
              "    <tr>\n",
              "      <th>5</th>\n",
              "      <td>2023-06-17 13:51:28.024473</td>\n",
              "      <td>665.438940</td>\n",
              "      <td>1.221620</td>\n",
              "    </tr>\n",
              "    <tr>\n",
              "      <th>6</th>\n",
              "      <td>2023-06-17 13:51:32.461314</td>\n",
              "      <td>910.905631</td>\n",
              "      <td>4.436841</td>\n",
              "    </tr>\n",
              "    <tr>\n",
              "      <th>7</th>\n",
              "      <td>2023-06-17 13:51:34.549970</td>\n",
              "      <td>442.860202</td>\n",
              "      <td>2.088656</td>\n",
              "    </tr>\n",
              "    <tr>\n",
              "      <th>8</th>\n",
              "      <td>2023-06-17 13:51:37.268177</td>\n",
              "      <td>1006.089998</td>\n",
              "      <td>2.718207</td>\n",
              "    </tr>\n",
              "    <tr>\n",
              "      <th>9</th>\n",
              "      <td>2023-06-17 13:51:40.959720</td>\n",
              "      <td>189.319845</td>\n",
              "      <td>3.691543</td>\n",
              "    </tr>\n",
              "    <tr>\n",
              "      <th>10</th>\n",
              "      <td>2023-06-17 13:51:42.126438</td>\n",
              "      <td>193.099337</td>\n",
              "      <td>1.166718</td>\n",
              "    </tr>\n",
              "    <tr>\n",
              "      <th>11</th>\n",
              "      <td>2023-06-17 13:51:42.672932</td>\n",
              "      <td>912.439211</td>\n",
              "      <td>0.546494</td>\n",
              "    </tr>\n",
              "    <tr>\n",
              "      <th>12</th>\n",
              "      <td>2023-06-17 13:51:44.488212</td>\n",
              "      <td>852.136456</td>\n",
              "      <td>1.815280</td>\n",
              "    </tr>\n",
              "    <tr>\n",
              "      <th>13</th>\n",
              "      <td>2023-06-17 13:51:48.007771</td>\n",
              "      <td>460.841575</td>\n",
              "      <td>3.519559</td>\n",
              "    </tr>\n",
              "    <tr>\n",
              "      <th>14</th>\n",
              "      <td>2023-06-17 13:51:48.708047</td>\n",
              "      <td>682.646829</td>\n",
              "      <td>0.700276</td>\n",
              "    </tr>\n",
              "    <tr>\n",
              "      <th>15</th>\n",
              "      <td>2023-06-17 13:51:52.009286</td>\n",
              "      <td>977.933359</td>\n",
              "      <td>3.301239</td>\n",
              "    </tr>\n",
              "    <tr>\n",
              "      <th>16</th>\n",
              "      <td>2023-06-17 13:51:56.464794</td>\n",
              "      <td>998.581890</td>\n",
              "      <td>4.455508</td>\n",
              "    </tr>\n",
              "    <tr>\n",
              "      <th>17</th>\n",
              "      <td>2023-06-17 13:51:56.824679</td>\n",
              "      <td>421.553951</td>\n",
              "      <td>0.359885</td>\n",
              "    </tr>\n",
              "    <tr>\n",
              "      <th>18</th>\n",
              "      <td>2023-06-17 13:51:58.333402</td>\n",
              "      <td>994.809609</td>\n",
              "      <td>1.508723</td>\n",
              "    </tr>\n",
              "    <tr>\n",
              "      <th>19</th>\n",
              "      <td>2023-06-17 13:51:59.757402</td>\n",
              "      <td>330.014922</td>\n",
              "      <td>1.424000</td>\n",
              "    </tr>\n",
              "    <tr>\n",
              "      <th>20</th>\n",
              "      <td>2023-06-17 13:52:04.296604</td>\n",
              "      <td>922.872419</td>\n",
              "      <td>4.539202</td>\n",
              "    </tr>\n",
              "    <tr>\n",
              "      <th>21</th>\n",
              "      <td>2023-06-17 13:52:07.490367</td>\n",
              "      <td>112.134330</td>\n",
              "      <td>3.193763</td>\n",
              "    </tr>\n",
              "    <tr>\n",
              "      <th>22</th>\n",
              "      <td>2023-06-17 13:52:11.918046</td>\n",
              "      <td>946.960062</td>\n",
              "      <td>4.427679</td>\n",
              "    </tr>\n",
              "    <tr>\n",
              "      <th>23</th>\n",
              "      <td>2023-06-17 13:52:15.046482</td>\n",
              "      <td>57.372304</td>\n",
              "      <td>3.128436</td>\n",
              "    </tr>\n",
              "  </tbody>\n",
              "</table>\n",
              "</div>"
            ],
            "text/plain": [
              "              Collection time  Sensor value  time_diff\n",
              "0  2023-06-17 13:51:16.515922    194.800238        NaN\n",
              "1  2023-06-17 13:51:17.383868    832.943297   0.867946\n",
              "2  2023-06-17 13:51:21.580431    497.526531   4.196563\n",
              "3  2023-06-17 13:51:25.883798    710.795716   4.303367\n",
              "4  2023-06-17 13:51:26.802853    367.009104   0.919055\n",
              "5  2023-06-17 13:51:28.024473    665.438940   1.221620\n",
              "6  2023-06-17 13:51:32.461314    910.905631   4.436841\n",
              "7  2023-06-17 13:51:34.549970    442.860202   2.088656\n",
              "8  2023-06-17 13:51:37.268177   1006.089998   2.718207\n",
              "9  2023-06-17 13:51:40.959720    189.319845   3.691543\n",
              "10 2023-06-17 13:51:42.126438    193.099337   1.166718\n",
              "11 2023-06-17 13:51:42.672932    912.439211   0.546494\n",
              "12 2023-06-17 13:51:44.488212    852.136456   1.815280\n",
              "13 2023-06-17 13:51:48.007771    460.841575   3.519559\n",
              "14 2023-06-17 13:51:48.708047    682.646829   0.700276\n",
              "15 2023-06-17 13:51:52.009286    977.933359   3.301239\n",
              "16 2023-06-17 13:51:56.464794    998.581890   4.455508\n",
              "17 2023-06-17 13:51:56.824679    421.553951   0.359885\n",
              "18 2023-06-17 13:51:58.333402    994.809609   1.508723\n",
              "19 2023-06-17 13:51:59.757402    330.014922   1.424000\n",
              "20 2023-06-17 13:52:04.296604    922.872419   4.539202\n",
              "21 2023-06-17 13:52:07.490367    112.134330   3.193763\n",
              "22 2023-06-17 13:52:11.918046    946.960062   4.427679\n",
              "23 2023-06-17 13:52:15.046482     57.372304   3.128436"
            ]
          },
          "execution_count": 13,
          "metadata": {},
          "output_type": "execute_result"
        }
      ],
      "source": [
        "latency"
      ]
    },
    {
      "cell_type": "code",
      "execution_count": null,
      "metadata": {
        "id": "gFNIcNnUYJ0o"
      },
      "outputs": [],
      "source": []
    }
  ],
  "metadata": {
    "colab": {
      "private_outputs": true,
      "provenance": []
    },
    "kernelspec": {
      "display_name": "Python 3",
      "name": "python3"
    },
    "language_info": {
      "codemirror_mode": {
        "name": "ipython",
        "version": 3
      },
      "file_extension": ".py",
      "mimetype": "text/x-python",
      "name": "python",
      "nbconvert_exporter": "python",
      "pygments_lexer": "ipython3",
      "version": "3.9.17"
    }
  },
  "nbformat": 4,
  "nbformat_minor": 0
}
