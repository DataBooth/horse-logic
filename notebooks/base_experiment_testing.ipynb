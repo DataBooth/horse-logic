{
 "cells": [
  {
   "cell_type": "code",
   "execution_count": null,
   "metadata": {},
   "outputs": [],
   "source": [
    "import os\n",
    "import sys\n",
    "import time\n",
    "\n",
    "import pigpio\n",
    "\n",
    "# Think these will only work on Raspberry PI device\n",
    "\n",
    "#from PiicoDev_Buzzer import PiicoDev_Buzzer\n",
    "#from PiicoDev_CAP1203 import PiicoDev_CAP1203\n",
    "#from PiicoDev_Unified import sleep_ms"
   ]
  },
  {
   "cell_type": "code",
   "execution_count": null,
   "metadata": {},
   "outputs": [],
   "source": [
    "# Define key hardware parameters\n",
    "START_CMD_PI_GPIO_PROCESS = \"sudo pigpiod\"\n",
    "TOUCH_SENSITIVITY_LEVEL = 3\n",
    "SERVO_PIN = 18  # GPIO pin for the servo\n",
    "SERVO_MIN = 500  # Minimum pulse width for the servo\n",
    "SERVO_MAX = 2500  # Maximum pulse width for the servo\n",
    "\n",
    "# Define experiment parameters\n",
    "N_TRIAL = 5  # Change this number as required for the number of trials"
   ]
  },
  {
   "cell_type": "code",
   "execution_count": null,
   "metadata": {},
   "outputs": [],
   "source": [
    "# Start the pigpio daemon\n",
    "os.system(START_CMD_PI_GPIO_PROCESS)"
   ]
  },
  {
   "cell_type": "code",
   "execution_count": null,
   "metadata": {},
   "outputs": [],
   "source": []
  }
 ],
 "metadata": {
  "kernelspec": {
   "display_name": ".venv",
   "language": "python",
   "name": "python3"
  },
  "language_info": {
   "codemirror_mode": {
    "name": "ipython",
    "version": 3
   },
   "file_extension": ".py",
   "mimetype": "text/x-python",
   "name": "python",
   "nbconvert_exporter": "python",
   "pygments_lexer": "ipython3",
   "version": "3.11.2"
  }
 },
 "nbformat": 4,
 "nbformat_minor": 2
}
