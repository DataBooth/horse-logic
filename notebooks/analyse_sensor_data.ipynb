{
 "cells": [
  {
   "attachments": {},
   "cell_type": "markdown",
   "metadata": {},
   "source": [
    "## Analyse (simulated) sensor data"
   ]
  },
  {
   "attachments": {},
   "cell_type": "markdown",
   "metadata": {},
   "source": [
    "### Setup"
   ]
  },
  {
   "cell_type": "code",
   "execution_count": 1,
   "metadata": {},
   "outputs": [],
   "source": [
    "from pathlib import Path\n",
    "import pandas as pd\n",
    "import matplotlib.pyplot as plt"
   ]
  },
  {
   "cell_type": "code",
   "execution_count": 2,
   "metadata": {},
   "outputs": [],
   "source": [
    "DATA_PATH = Path.cwd().parent / \"data\""
   ]
  },
  {
   "cell_type": "code",
   "execution_count": 3,
   "metadata": {},
   "outputs": [
    {
     "name": "stdout",
     "output_type": "stream",
     "text": [
      "README_data.md\n",
      "sensor_data_5e3cc355-cd2b-5e82-a83e-997111240bf7.csv\n",
      "sensor_data_5e3cc355-cd2b-5e82-a83e-997111240bf7.parquet\n"
     ]
    }
   ],
   "source": [
    "!ls $DATA_PATH"
   ]
  },
  {
   "attachments": {},
   "cell_type": "markdown",
   "metadata": {},
   "source": [
    "## Custom functions"
   ]
  },
  {
   "cell_type": "code",
   "execution_count": 9,
   "metadata": {},
   "outputs": [],
   "source": [
    "def plot_data_histogram(df, plot_column_name, normalise=True):\n",
    "    plt.figure(figsize=(10, 6))\n",
    "    plt.hist(df[plot_column_name], bins=10, color=\"blue\", edgecolor=\"black\", density=normalise)\n",
    "    plt.title(f\"Histogram of {plot_column_name}\")\n",
    "    plt.xlabel(f\"{plot_column_name}\")\n",
    "    plt.ylabel(\"Frequency\")\n",
    "    plt.show()\n",
    "    return None"
   ]
  },
  {
   "cell_type": "code",
   "execution_count": 26,
   "metadata": {},
   "outputs": [],
   "source": [
    "def calc_summary_stats(df):\n",
    "    display(df[[\"time_diff\", \"Sensor value\"]].describe().transpose())"
   ]
  },
  {
   "attachments": {},
   "cell_type": "markdown",
   "metadata": {},
   "source": [
    "## Analyse Sensor Data\n",
    "\n",
    "- Look at pulling the data from the parquet files and into DuckDB for analysis\n",
    "- And/or use Polars for analysis\n",
    "- And/or use Pandas for analysis"
   ]
  },
  {
   "cell_type": "code",
   "execution_count": 28,
   "metadata": {},
   "outputs": [
    {
     "name": "stdout",
     "output_type": "stream",
     "text": [
      "Reading: /Users/mjboothaus/code/github/databooth/cath-henshall/data/sensor_data_5e3cc355-cd2b-5e82-a83e-997111240bf7.csv\n",
      "Reading: /Users/mjboothaus/code/github/databooth/cath-henshall/data/sensor_data_f651c3c1-5115-530b-8af4-0344c19429c3.csv\n"
     ]
    }
   ],
   "source": [
    "data_df = []\n",
    "for csv_file in DATA_PATH.glob(\"*.csv\"):\n",
    "    print(f\"Reading: {csv_file}\")\n",
    "    data_df.append(pd.read_csv(csv_file, date_format=\"%Y-%m-%d %H:%M:%S.%f\", parse_dates=[\"Collection time\"], index_col=0))"
   ]
  },
  {
   "cell_type": "code",
   "execution_count": 16,
   "metadata": {},
   "outputs": [
    {
     "data": {
      "image/png": "[encoded data removed]",
      "text/plain": [
       "<Figure size 1000x600 with 1 Axes>"
      ]
     },
     "metadata": {},
     "output_type": "display_data"
    }
   ],
   "source": [
    "for df in data_df:\n",
    "    calc_summary_stats(df)\n",
    "    plot_data_histogram(df, \"time_diff\")"
   ]
  },
  {
   "cell_type": "code",
   "execution_count": 27,
   "metadata": {},
   "outputs": [
    {
     "data": {
      "text/html": [
       "<div>\n",
       "<style scoped>\n",
       "    .dataframe tbody tr th:only-of-type {\n",
       "        vertical-align: middle;\n",
       "    }\n",
       "\n",
       "    .dataframe tbody tr th {\n",
       "        vertical-align: top;\n",
       "    }\n",
       "\n",
       "    .dataframe thead th {\n",
       "        text-align: right;\n",
       "    }\n",
       "</style>\n",
       "<table border=\"1\" class=\"dataframe\">\n",
       "  <thead>\n",
       "    <tr style=\"text-align: right;\">\n",
       "      <th></th>\n",
       "      <th>count</th>\n",
       "      <th>mean</th>\n",
       "      <th>std</th>\n",
       "      <th>min</th>\n",
       "      <th>25%</th>\n",
       "      <th>50%</th>\n",
       "      <th>75%</th>\n",
       "      <th>max</th>\n",
       "    </tr>\n",
       "  </thead>\n",
       "  <tbody>\n",
       "    <tr>\n",
       "      <th>time_diff</th>\n",
       "      <td>24.0</td>\n",
       "      <td>4.829526</td>\n",
       "      <td>3.099653</td>\n",
       "      <td>0.171642</td>\n",
       "      <td>1.835184</td>\n",
       "      <td>4.949772</td>\n",
       "      <td>7.203505</td>\n",
       "      <td>9.494257</td>\n",
       "    </tr>\n",
       "    <tr>\n",
       "      <th>Sensor value</th>\n",
       "      <td>25.0</td>\n",
       "      <td>50.938184</td>\n",
       "      <td>30.155788</td>\n",
       "      <td>0.266648</td>\n",
       "      <td>27.197680</td>\n",
       "      <td>47.204130</td>\n",
       "      <td>74.622226</td>\n",
       "      <td>98.054593</td>\n",
       "    </tr>\n",
       "  </tbody>\n",
       "</table>\n",
       "</div>"
      ],
      "text/plain": [
       "              count       mean        std       min        25%        50%  \\\n",
       "time_diff      24.0   4.829526   3.099653  0.171642   1.835184   4.949772   \n",
       "Sensor value   25.0  50.938184  30.155788  0.266648  27.197680  47.204130   \n",
       "\n",
       "                    75%        max  \n",
       "time_diff      7.203505   9.494257  \n",
       "Sensor value  74.622226  98.054593  "
      ]
     },
     "metadata": {},
     "output_type": "display_data"
    }
   ],
   "source": [
    "calc_summary_stats(data_df[0])"
   ]
  },
  {
   "cell_type": "code",
   "execution_count": null,
   "metadata": {},
   "outputs": [],
   "source": []
  }
 ],
 "metadata": {
  "kernelspec": {
   "display_name": ".venv",
   "language": "python",
   "name": "python3"
  },
  "language_info": {
   "codemirror_mode": {
    "name": "ipython",
    "version": 3
   },
   "file_extension": ".py",
   "mimetype": "text/x-python",
   "name": "python",
   "nbconvert_exporter": "python",
   "pygments_lexer": "ipython3",
   "version": "3.9.17"
  },
  "orig_nbformat": 4
 },
 "nbformat": 4,
 "nbformat_minor": 2
}
