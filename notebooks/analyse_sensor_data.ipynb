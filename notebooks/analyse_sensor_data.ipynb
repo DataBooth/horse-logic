{
 "cells": [
  {
   "attachments": {},
   "cell_type": "markdown",
   "metadata": {},
   "source": [
    "## Analyse (simulated) sensor data"
   ]
  },
  {
   "attachments": {},
   "cell_type": "markdown",
   "metadata": {},
   "source": [
    "### Setup"
   ]
  },
  {
   "cell_type": "code",
   "execution_count": null,
   "metadata": {},
   "outputs": [],
   "source": [
    "from pathlib import Path\n",
    "import pandas as pd\n",
    "import matplotlib.pyplot as plt\n",
    "import pandera as pa"
   ]
  },
  {
   "cell_type": "code",
   "execution_count": null,
   "metadata": {},
   "outputs": [],
   "source": [
    "DATA_PATH = Path.cwd().parent / \"data\""
   ]
  },
  {
   "cell_type": "code",
   "execution_count": null,
   "metadata": {},
   "outputs": [],
   "source": [
    "!ls $DATA_PATH"
   ]
  },
  {
   "attachments": {},
   "cell_type": "markdown",
   "metadata": {},
   "source": [
    "## Custom functions"
   ]
  },
  {
   "cell_type": "code",
   "execution_count": null,
   "metadata": {},
   "outputs": [],
   "source": [
    "def plot_data_histogram(df, plot_column_name, normalise=True):\n",
    "    plt.figure(figsize=(10, 6))\n",
    "    plt.hist(\n",
    "        df[plot_column_name],\n",
    "        bins=10,\n",
    "        color=\"blue\",\n",
    "        edgecolor=\"black\",\n",
    "        density=normalise,\n",
    "    )\n",
    "    plt.title(f\"Histogram of {plot_column_name}\")\n",
    "    plt.xlabel(f\"{plot_column_name}\")\n",
    "    plt.ylabel(\"Frequency\")\n",
    "    plt.show()\n",
    "    return None"
   ]
  },
  {
   "cell_type": "code",
   "execution_count": null,
   "metadata": {},
   "outputs": [],
   "source": [
    "def calc_summary_stats(df):\n",
    "    display(df[[\"time_diff\", \"Sensor value\"]].describe().transpose())"
   ]
  },
  {
   "attachments": {},
   "cell_type": "markdown",
   "metadata": {},
   "source": [
    "## Data Validation"
   ]
  },
  {
   "cell_type": "code",
   "execution_count": null,
   "metadata": {},
   "outputs": [],
   "source": [
    "def validate_data(df):\n",
    "    schema = pa.DataFrameSchema(\n",
    "        {\n",
    "            \"time_diff\": pa.Column(float, checks=pa.Check.ge(0)),\n",
    "            \"Sensor value\": pa.Column(float, checks=pa.Check.gt(0)),\n",
    "        }\n",
    "    )\n",
    "    validated_df = schema(df)\n",
    "    return validated_df"
   ]
  },
  {
   "attachments": {},
   "cell_type": "markdown",
   "metadata": {},
   "source": [
    "## Analyse Sensor Data\n",
    "\n",
    "- Look at pulling the data from the parquet files and into DuckDB for analysis\n",
    "- And/or use Polars for analysis\n",
    "- And/or use Pandas for analysis"
   ]
  },
  {
   "attachments": {},
   "cell_type": "markdown",
   "metadata": {},
   "source": [
    "Also take a look at `pandera` for data validation for early alert of data issues\n",
    "\n",
    "https://pandera.readthedocs.io/en/stable/\n",
    "\n",
    "e.g. example: make sure that all of the sensor data is within a certain range"
   ]
  },
  {
   "cell_type": "code",
   "execution_count": null,
   "metadata": {},
   "outputs": [],
   "source": [
    "data_df = []\n",
    "for csv_file in DATA_PATH.glob(\"*.csv\"):\n",
    "    print(f\"Reading: {csv_file}\")\n",
    "    df = pd.read_csv(\n",
    "        csv_file,\n",
    "        date_format=\"%Y-%m-%d %H:%M:%S.%f\",\n",
    "        parse_dates=[\"Collection time\"],\n",
    "        index_col=0,\n",
    "    )\n",
    "    df.fillna(value=0, limit=1, inplace=True)  # for time_diff column first row\n",
    "    data_df.append(df)"
   ]
  },
  {
   "cell_type": "code",
   "execution_count": null,
   "metadata": {},
   "outputs": [],
   "source": [
    "for df in data_df:\n",
    "    if df.equals(validate_data(df)):\n",
    "        print(\"INFO: Data passes validation checks\")\n",
    "        calc_summary_stats(df)\n",
    "        plot_data_histogram(df, \"time_diff\")\n",
    "    else:\n",
    "        print(\"ERROR: Data is invalid\")"
   ]
  },
  {
   "cell_type": "code",
   "execution_count": null,
   "metadata": {},
   "outputs": [],
   "source": [
    "pd.__version__"
   ]
  },
  {
   "cell_type": "code",
   "execution_count": null,
   "metadata": {},
   "outputs": [],
   "source": []
  }
 ],
 "metadata": {
  "kernelspec": {
   "display_name": ".venv",
   "language": "python",
   "name": "python3"
  },
  "language_info": {
   "codemirror_mode": {
    "name": "ipython",
    "version": 3
   },
   "file_extension": ".py",
   "mimetype": "text/x-python",
   "name": "python",
   "nbconvert_exporter": "python",
   "pygments_lexer": "ipython3",
   "version": "3.9.17"
  },
  "orig_nbformat": 4
 },
 "nbformat": 4,
 "nbformat_minor": 2
}
