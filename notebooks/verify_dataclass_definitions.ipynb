{
 "cells": [
  {
   "attachments": {},
   "cell_type": "markdown",
   "metadata": {},
   "source": [
    "## Verify dataclass definitions"
   ]
  },
  {
   "cell_type": "code",
   "execution_count": 1,
   "metadata": {},
   "outputs": [
    {
     "name": "stdout",
     "output_type": "stream",
     "text": [
      "Python version: 3.9.17\n"
     ]
    }
   ],
   "source": [
    "from pathlib import Path\n",
    "import sys\n",
    "\n",
    "module_path = Path.cwd().parent.as_posix()\n",
    "if module_path not in sys.path:\n",
    "    sys.path.append(module_path)\n",
    "\n",
    "from platform import python_version\n",
    "\n",
    "print(f\"Python version: {python_version()}\")"
   ]
  },
  {
   "cell_type": "code",
   "execution_count": 2,
   "metadata": {},
   "outputs": [],
   "source": [
    "from src.experiment import Sensor, Subject, DaqHardware, Experiment"
   ]
  },
  {
   "attachments": {},
   "cell_type": "markdown",
   "metadata": {},
   "source": [
    "## Subjects\n",
    "\n",
    "Each subject in this experiment is a horse.\n",
    "\n",
    "There are twenty horses in the experiment labelled $1, 2, ..., 20.$"
   ]
  },
  {
   "cell_type": "code",
   "execution_count": 3,
   "metadata": {},
   "outputs": [],
   "source": [
    "subject1 = Subject(\"Horse 1 name\", \"Horse description\", id=1, age=2.1, breed=\"breed1\")"
   ]
  },
  {
   "cell_type": "code",
   "execution_count": 4,
   "metadata": {},
   "outputs": [
    {
     "data": {
      "text/plain": [
       "Horse 1 name (Id: 1)"
      ]
     },
     "execution_count": 4,
     "metadata": {},
     "output_type": "execute_result"
    }
   ],
   "source": [
    "subject1"
   ]
  },
  {
   "attachments": {},
   "cell_type": "markdown",
   "metadata": {},
   "source": [
    "## Senors\n",
    "\n",
    "There are three sensors being used in this experiment (which are controlled by the Raspberry Pi Pico):\n",
    "1. Buzzer\n",
    "2. Touch sensor\n",
    "3. DF Geared 15kg Standard Servo 270°\n",
    "\n"
   ]
  },
  {
   "cell_type": "code",
   "execution_count": 5,
   "metadata": {},
   "outputs": [],
   "source": [
    "buzzer = Sensor(\n",
    "    name=\"Peizo Buzzer\",\n",
    "    description=\"Buzzer for start and end tones\",\n",
    "    serial_number=\"1234567890\",\n",
    "    status=True,\n",
    "    hardware_daq_info=\"Raspberry Pi 4\",\n",
    ")"
   ]
  },
  {
   "cell_type": "code",
   "execution_count": 6,
   "metadata": {},
   "outputs": [
    {
     "data": {
      "text/plain": [
       "Peizo Buzzer (1234567890)"
      ]
     },
     "execution_count": 6,
     "metadata": {},
     "output_type": "execute_result"
    }
   ],
   "source": [
    "buzzer"
   ]
  },
  {
   "cell_type": "code",
   "execution_count": 7,
   "metadata": {},
   "outputs": [
    {
     "data": {
      "text/plain": [
       "'Buzzer for start and end tones'"
      ]
     },
     "execution_count": 7,
     "metadata": {},
     "output_type": "execute_result"
    }
   ],
   "source": [
    "buzzer.description"
   ]
  },
  {
   "cell_type": "code",
   "execution_count": 8,
   "metadata": {},
   "outputs": [
    {
     "data": {
      "text/plain": [
       "src.experiment.Sensor"
      ]
     },
     "execution_count": 8,
     "metadata": {},
     "output_type": "execute_result"
    }
   ],
   "source": [
    "type(buzzer)"
   ]
  },
  {
   "cell_type": "code",
   "execution_count": 9,
   "metadata": {},
   "outputs": [],
   "source": [
    "touch_sensor = Sensor(\n",
    "    name=\"Piicodev Capacitive Touch Sensor\",\n",
    "    description=\"Touch sensor for nose press\",\n",
    "    serial_number=\"0987654321\",\n",
    "    status=True,\n",
    "    hardware_daq_info=\"Raspberry Pi 4\",\n",
    ")"
   ]
  },
  {
   "cell_type": "code",
   "execution_count": 10,
   "metadata": {},
   "outputs": [
    {
     "data": {
      "text/plain": [
       "Piicodev Capacitive Touch Sensor (0987654321)"
      ]
     },
     "execution_count": 10,
     "metadata": {},
     "output_type": "execute_result"
    }
   ],
   "source": [
    "touch_sensor"
   ]
  },
  {
   "cell_type": "code",
   "execution_count": 11,
   "metadata": {},
   "outputs": [],
   "source": [
    "servo_270 = Sensor(\n",
    "    name=\"DF Metal Geared 15KG Standard Servo 270°\",\n",
    "    description=\"Servo for dispensing feed\",\n",
    "    serial_number=\"1357924680\",\n",
    "    status=True,\n",
    "    hardware_daq_info=\"Raspberry Pi 4\",\n",
    ")"
   ]
  },
  {
   "cell_type": "code",
   "execution_count": 12,
   "metadata": {},
   "outputs": [
    {
     "data": {
      "text/plain": [
       "DF Metal Geared 15KG Standard Servo 270° (1357924680)"
      ]
     },
     "execution_count": 12,
     "metadata": {},
     "output_type": "execute_result"
    }
   ],
   "source": [
    "servo_270"
   ]
  },
  {
   "attachments": {},
   "cell_type": "markdown",
   "metadata": {},
   "source": [
    "## DAQ (Data Acquisition) Hardware"
   ]
  },
  {
   "cell_type": "code",
   "execution_count": 13,
   "metadata": {},
   "outputs": [],
   "source": [
    "sensors = [buzzer, touch_sensor, servo_270]"
   ]
  },
  {
   "cell_type": "code",
   "execution_count": 14,
   "metadata": {},
   "outputs": [],
   "source": [
    "raspberry_pico = DaqHardware(\n",
    "    name=\"Raspberry Pi Pico\",\n",
    "    description=\"Raspberry Pi Pico\",\n",
    "    serial_number=\"1234567890\",\n",
    "    sensors=sensors,\n",
    ")"
   ]
  },
  {
   "cell_type": "code",
   "execution_count": 15,
   "metadata": {},
   "outputs": [
    {
     "data": {
      "text/plain": [
       "[Peizo Buzzer (1234567890),\n",
       " Piicodev Capacitive Touch Sensor (0987654321),\n",
       " DF Metal Geared 15KG Standard Servo 270° (1357924680)]"
      ]
     },
     "execution_count": 15,
     "metadata": {},
     "output_type": "execute_result"
    }
   ],
   "source": [
    "raspberry_pico.sensors"
   ]
  },
  {
   "cell_type": "code",
   "execution_count": 16,
   "metadata": {},
   "outputs": [
    {
     "data": {
      "text/plain": [
       "Raspberry Pi Pico (1234567890) \n",
       "Sensors:\n",
       "[Peizo Buzzer (1234567890), Piicodev Capacitive Touch Sensor (0987654321), DF Metal Geared 15KG Standard Servo 270° (1357924680)]"
      ]
     },
     "execution_count": 16,
     "metadata": {},
     "output_type": "execute_result"
    }
   ],
   "source": [
    "raspberry_pico"
   ]
  },
  {
   "cell_type": "code",
   "execution_count": 17,
   "metadata": {},
   "outputs": [],
   "source": [
    "experiment = Experiment(\n",
    "    name=\"Horse Reward Prediction experiment\",\n",
    "    description=\"TODO: Add description\",\n",
    "    n_trial=10,\n",
    "    start_date=\"2023-07-18\",\n",
    "    end_date=\"2023-07-25\",\n",
    "    status=\"Design\",\n",
    "    daq_hardware=raspberry_pico,\n",
    "    data_file_prefix=\"TODO\",\n",
    ")"
   ]
  },
  {
   "cell_type": "code",
   "execution_count": 18,
   "metadata": {},
   "outputs": [
    {
     "data": {
      "text/plain": [
       "Experiment 1 (1234567890)"
      ]
     },
     "execution_count": 18,
     "metadata": {},
     "output_type": "execute_result"
    }
   ],
   "source": [
    "experiment"
   ]
  },
  {
   "cell_type": "code",
   "execution_count": null,
   "metadata": {},
   "outputs": [],
   "source": []
  }
 ],
 "metadata": {
  "kernelspec": {
   "display_name": ".venv",
   "language": "python",
   "name": "python3"
  },
  "language_info": {
   "codemirror_mode": {
    "name": "ipython",
    "version": 3
   },
   "file_extension": ".py",
   "mimetype": "text/x-python",
   "name": "python",
   "nbconvert_exporter": "python",
   "pygments_lexer": "ipython3",
   "version": "3.9.17"
  },
  "orig_nbformat": 4
 },
 "nbformat": 4,
 "nbformat_minor": 2
}
