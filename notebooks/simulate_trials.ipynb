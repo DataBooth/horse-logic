{
 "cells": [
  {
   "attachments": {},
   "cell_type": "markdown",
   "metadata": {},
   "source": [
    "## Demo for Cath"
   ]
  },
  {
   "cell_type": "code",
   "execution_count": 1,
   "metadata": {},
   "outputs": [],
   "source": [
    "from pathlib import Path\n",
    "import sys\n",
    "\n",
    "module_path = Path.cwd().parent.as_posix()\n",
    "if module_path not in sys.path:\n",
    "    sys.path.append(module_path)"
   ]
  },
  {
   "cell_type": "code",
   "execution_count": 35,
   "metadata": {},
   "outputs": [],
   "source": [
    "from datetime import datetime as dt\n",
    "import random\n",
    "from time import sleep"
   ]
  },
  {
   "attachments": {},
   "cell_type": "markdown",
   "metadata": {},
   "source": [
    "### Custom functions for simulating trials\n",
    "\n",
    "These are in experiment.py"
   ]
  },
  {
   "cell_type": "code",
   "execution_count": 38,
   "metadata": {},
   "outputs": [],
   "source": [
    "def set_data_dir():\n",
    "    DATA_DIR = Path.cwd().parent / \"data\"  # running code from notebooks\n",
    "    if not DATA_DIR.exists():\n",
    "        DATA_DIR = (\n",
    "            Path.cwd() / \"data\"\n",
    "        )  # running code from src - TODO: check if this works\n",
    "    print(f\"Data directory is: {DATA_DIR}\")\n",
    "    return DATA_DIR"
   ]
  },
  {
   "cell_type": "code",
   "execution_count": 39,
   "metadata": {},
   "outputs": [
    {
     "name": "stdout",
     "output_type": "stream",
     "text": [
      "Data directory is: /Users/mjboothaus/code/github/databooth/cath-henshall/data\n"
     ]
    }
   ],
   "source": [
    "DATA_DIR = set_data_dir()"
   ]
  },
  {
   "attachments": {},
   "cell_type": "markdown",
   "metadata": {},
   "source": [
    "### Data files\n",
    "\n",
    "The data files are in the data folder. The data files are named according to the following convention:\n",
    "- there is a master log file which contains a complete record of all trials (where they are \"successful\" or not)\n",
    "- Latency data - for each TODO - clarify this"
   ]
  },
  {
   "cell_type": "code",
   "execution_count": 23,
   "metadata": {},
   "outputs": [],
   "source": [
    "# Trial parameters\n",
    "\n",
    "# TODO: Maybe specify these in a config file?\n",
    "# QUESTION: Will these parameters change for trials (e.g. do they need to be calibrated in the initial experiments)?\n",
    "\n",
    "ACTIVATION_TIMEOUT_SEC = 5\n",
    "WAIT_AFTER_CORRECT_RESPONSE_SEC = 3\n",
    "FEED_CONSUMPTION_TIMEOUT_SEC = 15\n",
    "TRIAL_TIMEOUT_SEC = 60\n",
    "START_TONE_SEC = 1"
   ]
  },
  {
   "cell_type": "code",
   "execution_count": 11,
   "metadata": {},
   "outputs": [],
   "source": [
    "trial_parameters_names = [\n",
    "    \"ACTIVATION_TIMEOUT_SEC\",\n",
    "    \"WAIT_AFTER_CORRECT_RESPONSE_SEC\",\n",
    "    \"FEED_CONSUMPTION_TIMEOUT_SEC\",\n",
    "    \"TRIAL_TIMEOUT_SEC\",\n",
    "]"
   ]
  },
  {
   "cell_type": "code",
   "execution_count": 34,
   "metadata": {},
   "outputs": [],
   "source": [
    "from src.experiment import (\n",
    "    log_trial_parameters,\n",
    "    log_event,\n",
    "    play_beep,\n",
    "    play_correct_response_tone,\n",
    "    dispense_feed,\n",
    "    wait_for_period_of_time,\n",
    "    wait_for_start_button_press,\n",
    ")"
   ]
  },
  {
   "cell_type": "code",
   "execution_count": 22,
   "metadata": {},
   "outputs": [
    {
     "name": "stdout",
     "output_type": "stream",
     "text": [
      "Logged - TRIAL PARAMETERS: {'ACTIVATION_TIMEOUT_SEC': 5, 'WAIT_AFTER_CORRECT_RESPONSE_SEC': 3, 'FEED_CONSUMPTION_TIMEOUT_SEC': 15, 'TRIAL_TIMEOUT_SEC': 60}\n",
      "\n",
      "Logged - 2023-06-26 14:08:58.457977: Horse enters test chute\n",
      "\n",
      "Logged - 2023-06-26 14:09:08.760576: Trial started\n",
      "\n",
      "Logged - 2023-06-26 14:09:08.761892: Playing buzzer for 1 seconds\n",
      "\n",
      "Logged - 2023-06-26 14:09:09.856201: Start buzzer finished\n",
      "\n",
      "Logged - 2023-06-26 14:09:12.565650: Touch sensor activated after 2.708457 seconds\n",
      "\n",
      "Logged - 2023-06-26 14:09:12.566653: Start playing correct response tone\n",
      "\n",
      "Logged - 2023-06-26 14:09:13.634323: Finished playing correct response tone\n",
      "\n",
      "Logged - 2023-06-26 14:09:13.636638: Waiting after correct response finished for 3 seconds\n",
      "\n",
      "Logged - 2023-06-26 14:09:13.637682: Wait after correct response: Waiting for 3 seconds\n",
      "\n",
      "Logged - 2023-06-26 14:09:16.642615: Wait after correct response: Finished waiting for 3 seconds\n",
      "\n",
      "Logged - 2023-06-26 14:09:16.643442: Dispensing feed\n",
      "\n",
      "Logged - 2023-06-26 14:09:16.643965: Waiting after feed dispensed: Waiting for 15 seconds\n",
      "\n",
      "Logged - 2023-06-26 14:09:31.647220: Waiting after feed dispensed: Finished waiting for 15 seconds\n",
      "\n",
      "Logged - 2023-06-26 14:09:31.649187: Trial ends\n",
      "\n"
     ]
    }
   ],
   "source": [
    "# Experiment trial\n",
    "\n",
    "\n",
    "def run_trials(subject_id, n_trials=10):\n",
    "    log_trial_parameters()\n",
    "\n",
    "    # Event 0: Horse enters test chute - how does the experimenter know when it is ok to start the trial?\n",
    "\n",
    "    log_event(f\"Subject {subject_id} entering test chute\", dt.now())\n",
    "    wait_for_start_button_press()\n",
    "\n",
    "    # Event 1: Start tone - 1 sec duration\n",
    "\n",
    "    log_event(f\"Playing buzzer for {START_TONE_SEC} seconds\", dt.now())\n",
    "    play_beep(START_TONE_SEC)\n",
    "    log_event(\"Start buzzer finished\", dt.now())\n",
    "\n",
    "    # Event 2: Potential activation of touch sensor (nose press on panel)\n",
    "\n",
    "    start_sensor_period = dt.now()\n",
    "    touch_sensor_activated = False\n",
    "\n",
    "    # Allow for Phases 1, 2 and 3 (note that Phases 1 and 3 are the same)\n",
    "    # Also allow for a specific number of trials\n",
    "\n",
    "    while (\n",
    "        dt.now() - start_sensor_period\n",
    "    ).seconds < ACTIVATION_TIMEOUT_SEC:  # Simulate the horse either activating the touch sensor or not\n",
    "        sleep(0.9)\n",
    "        if random.random() < 0.2:  # simulate touch sensor activation\n",
    "            touch_sensor_activated = True\n",
    "            touch_time = dt.now()\n",
    "            touch_latency = (touch_time - start_sensor_period).total_seconds()\n",
    "            log_event(\n",
    "                f\"Touch sensor activated after {touch_latency} seconds\", touch_time\n",
    "            )\n",
    "            # reset_touch_sensor()\n",
    "            play_correct_response_tone()\n",
    "            wait_for_period_of_time(\n",
    "                \"Wait after correct response\", WAIT_AFTER_CORRECT_RESPONSE_SEC\n",
    "            )\n",
    "            dispense_feed()\n",
    "            wait_for_period_of_time(\n",
    "                \"Waiting after feed dispensed\", FEED_CONSUMPTION_TIMEOUT_SEC\n",
    "            )\n",
    "            break\n",
    "    if not touch_sensor_activated:\n",
    "        log_event(\n",
    "            f\"Touch sensor not activated after {ACTIVATION_TIMEOUT_SEC} seconds\",\n",
    "            dt.now(),\n",
    "        )\n",
    "\n",
    "    # Event 3: Correct response tone - 0.5 sec duration\n",
    "\n",
    "    log_event(\"Trial ends\", dt.now())"
   ]
  },
  {
   "cell_type": "code",
   "execution_count": null,
   "metadata": {},
   "outputs": [],
   "source": []
  }
 ],
 "metadata": {
  "kernelspec": {
   "display_name": ".venv",
   "language": "python",
   "name": "python3"
  },
  "language_info": {
   "codemirror_mode": {
    "name": "ipython",
    "version": 3
   },
   "file_extension": ".py",
   "mimetype": "text/x-python",
   "name": "python",
   "nbconvert_exporter": "python",
   "pygments_lexer": "ipython3",
   "version": "3.9.17"
  },
  "orig_nbformat": 4
 },
 "nbformat": 4,
 "nbformat_minor": 2
}
