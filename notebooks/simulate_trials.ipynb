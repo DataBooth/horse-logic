{
 "cells": [
  {
   "cell_type": "code",
   "execution_count": 1,
   "metadata": {},
   "outputs": [],
   "source": [
    "from pathlib import Path\n",
    "import sys\n",
    "\n",
    "module_path = Path.cwd().parent.as_posix()\n",
    "if module_path not in sys.path:\n",
    "    sys.path.append(module_path)"
   ]
  },
  {
   "cell_type": "code",
   "execution_count": 48,
   "metadata": {},
   "outputs": [],
   "source": [
    "import numpy as np\n",
    "import simpleaudio as sa\n",
    "from datetime import datetime as dt\n",
    "from functools import cache\n",
    "import random\n",
    "from time import sleep\n"
   ]
  },
  {
   "attachments": {},
   "cell_type": "markdown",
   "metadata": {},
   "source": [
    "## Custom functions for simulating trials"
   ]
  },
  {
   "cell_type": "code",
   "execution_count": null,
   "metadata": {},
   "outputs": [],
   "source": [
    "def simulate_buzzer(duration_sec=1):\n",
    "    \"\"\"Simulate the buzzer for the specified duration in seconds.\"\"\"\n",
    "    print(f\"Simulating buzzer for {duration_sec} seconds.\")\n",
    "    # code to make buzzer sound"
   ]
  },
  {
   "cell_type": "code",
   "execution_count": 25,
   "metadata": {},
   "outputs": [],
   "source": [
    "DATA_DIR = Path.cwd().parent / \"data\""
   ]
  },
  {
   "cell_type": "code",
   "execution_count": 26,
   "metadata": {},
   "outputs": [],
   "source": [
    "def log_event(event_name, event_time, trial_number, log_file=DATA_DIR / \"event_log.txt\"):\n",
    "    \"\"\"Log the event name and time to a file.\"\"\"\n",
    "    with open(log_file, \"a\") as f:\n",
    "        f.write(f\"{event_time}: {event_name}\\n\")\n",
    "    return None"
   ]
  },
  {
   "cell_type": "code",
   "execution_count": 34,
   "metadata": {},
   "outputs": [],
   "source": [
    "@cache\n",
    "def calculate_audio(duration):   \n",
    "    frequency = 440  # Our played note will be 440 Hz\n",
    "    fs = 44100  # 44100 samples per second\n",
    "    seconds = duration  # Duration in seconds (must be integer)\n",
    "\n",
    "    # Generate array with seconds*sample_rate steps, ranging between 0 and seconds\n",
    "    t = np.linspace(0, seconds, seconds * fs, False)\n",
    "\n",
    "    # Generate a 440 Hz sine wave\n",
    "    note = np.sin(frequency * t * 2 * np.pi)\n",
    "\n",
    "    # Ensure that highest value is in 16-bit range\n",
    "    audio = note * (2**15 - 1) / np.max(np.abs(note))\n",
    "    # Convert to 16-bit data\n",
    "    audio = audio.astype(np.int16)\n",
    "    return audio"
   ]
  },
  {
   "cell_type": "code",
   "execution_count": 35,
   "metadata": {},
   "outputs": [],
   "source": [
    "def play_beep(duration=1):\n",
    "    \"\"\"Play a beep sound for the specified duration in seconds.\"\"\"\n",
    "    audio = calculate_audio(duration)\n",
    "\n",
    "    # Start playback\n",
    "    play_obj = sa.play_buffer(audio, 1, 2, fs)\n",
    "\n",
    "    # Wait for playback to finish before exiting\n",
    "    play_obj.wait_done()\n"
   ]
  },
  {
   "cell_type": "code",
   "execution_count": 42,
   "metadata": {},
   "outputs": [],
   "source": [
    "!say please put the horse in the test chute"
   ]
  },
  {
   "cell_type": "code",
   "execution_count": 49,
   "metadata": {},
   "outputs": [],
   "source": [
    "# Experiment trial\n",
    "\n",
    "# Event 0: Horse enters test chute\n",
    "\n",
    "# Event 1: Start tone - 1 sec duration\n",
    "\n",
    "\n",
    "\n",
    "duration = 1\n",
    "log_event(f\"Simulating buzzer for {duration} seconds\", dt.now())\n",
    "play_beep(duration)\n",
    "log_event(\"Start buzzer finished\", dt.now())\n",
    "\n",
    "# Event 2: Activation of touch sensor (nose press on panel)\n",
    "\n",
    "start_sensor_period = dt.now()\n",
    "\n",
    "while (dt.now() - start_sensor_period).seconds < 5:\n",
    "    sleep(0.9) \n",
    "    if random.random() < 0.1:\n",
    "        log_event(\"Touch sensor activated\", dt.now())\n",
    "        break\n",
    "    else:\n",
    "        log_event(\"Touch sensor not activated\", dt.now())\n",
    "        break"
   ]
  },
  {
   "cell_type": "code",
   "execution_count": null,
   "metadata": {},
   "outputs": [],
   "source": []
  }
 ],
 "metadata": {
  "kernelspec": {
   "display_name": ".venv",
   "language": "python",
   "name": "python3"
  },
  "language_info": {
   "codemirror_mode": {
    "name": "ipython",
    "version": 3
   },
   "file_extension": ".py",
   "mimetype": "text/x-python",
   "name": "python",
   "nbconvert_exporter": "python",
   "pygments_lexer": "ipython3",
   "version": "3.9.17"
  },
  "orig_nbformat": 4
 },
 "nbformat": 4,
 "nbformat_minor": 2
}
