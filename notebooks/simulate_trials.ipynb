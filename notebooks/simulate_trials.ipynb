{
 "cells": [
  {
   "cell_type": "code",
   "execution_count": 1,
   "metadata": {},
   "outputs": [],
   "source": [
    "from pathlib import Path\n",
    "import sys\n",
    "\n",
    "module_path = Path.cwd().parent.as_posix()\n",
    "if module_path not in sys.path:\n",
    "    sys.path.append(module_path)"
   ]
  },
  {
   "cell_type": "code",
   "execution_count": 2,
   "metadata": {},
   "outputs": [],
   "source": [
    "import numpy as np\n",
    "import simpleaudio as sa\n",
    "from datetime import datetime as dt\n",
    "from functools import cache\n",
    "import random\n",
    "from time import sleep\n",
    "import numpy as np"
   ]
  },
  {
   "cell_type": "code",
   "execution_count": 3,
   "metadata": {},
   "outputs": [
    {
     "data": {
      "text/html": [
       "\n",
       "                <audio  controls=\"controls\" >\n",
       "                    <source src=\"data:audio/wav;base64,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\" type=\"audio/wav\" />\n",
       "                    Your browser does not support the audio element.\n",
       "                </audio>\n",
       "              "
      ],
      "text/plain": [
       "<IPython.lib.display.Audio object>"
      ]
     },
     "execution_count": 3,
     "metadata": {},
     "output_type": "execute_result"
    }
   ],
   "source": [
    "from IPython.display import Audio\n",
    "\n",
    "wave_audio = np.sin(np.linspace(0, 3000, 5000))\n",
    "Audio(wave_audio, rate=20000)"
   ]
  },
  {
   "attachments": {},
   "cell_type": "markdown",
   "metadata": {},
   "source": [
    "## Custom functions for simulating trials"
   ]
  },
  {
   "cell_type": "code",
   "execution_count": 4,
   "metadata": {},
   "outputs": [],
   "source": [
    "def simulate_buzzer(duration_sec=1):\n",
    "    \"\"\"Simulate the buzzer for the specified duration in seconds.\"\"\"\n",
    "    print(f\"Simulating buzzer for {duration_sec} seconds.\")\n",
    "    # code to make buzzer sound"
   ]
  },
  {
   "cell_type": "code",
   "execution_count": 5,
   "metadata": {},
   "outputs": [],
   "source": [
    "DATA_DIR = Path.cwd().parent / \"data\""
   ]
  },
  {
   "cell_type": "code",
   "execution_count": 6,
   "metadata": {},
   "outputs": [],
   "source": [
    "def log_event(\n",
    "    event_name, event_time, trial_number=None, log_file=DATA_DIR / \"event_log.txt\"\n",
    "):\n",
    "    \"\"\"Log the event name and time to a file.\"\"\"\n",
    "    with open(log_file, \"a\") as f:\n",
    "        f.write(f\"{event_time}: {event_name}\\n\")\n",
    "    print(f\"Logged - {event_time}: {event_name}\\n\")\n",
    "    return None"
   ]
  },
  {
   "cell_type": "code",
   "execution_count": 7,
   "metadata": {},
   "outputs": [],
   "source": [
    "@cache\n",
    "def calculate_audio(duration, fs):\n",
    "    frequency = 880  # Our played note will be 440 Hz\n",
    "    seconds = duration  # Duration in seconds (must be integer)\n",
    "\n",
    "    # fs: samples per second\n",
    "    # Generate array with seconds*sample_rate steps, ranging between 0 and seconds\n",
    "    t = np.linspace(0, seconds, seconds * fs, False)\n",
    "\n",
    "    # Generate a 440 Hz sine wave\n",
    "    note = np.sin(frequency * t * 2 * np.pi)\n",
    "\n",
    "    # Ensure that highest value is in 16-bit range\n",
    "    audio = note * (2**15 - 1) / np.max(np.abs(note))\n",
    "    # Convert to 16-bit data\n",
    "    audio = audio.astype(np.int16)\n",
    "    return audio"
   ]
  },
  {
   "cell_type": "code",
   "execution_count": 8,
   "metadata": {},
   "outputs": [],
   "source": [
    "def play_beep(duration=1, fs=44100):\n",
    "    \"\"\"Play a beep sound for the specified duration in seconds.\"\"\"\n",
    "    audio = calculate_audio(duration, fs)\n",
    "\n",
    "    # Start playback\n",
    "    play_obj = sa.play_buffer(audio, 1, 2, fs)\n",
    "\n",
    "    # Wait for playback to finish before exiting\n",
    "    play_obj.wait_done()"
   ]
  },
  {
   "cell_type": "code",
   "execution_count": 9,
   "metadata": {},
   "outputs": [],
   "source": [
    "# !say please put the horse in the test chute\n",
    "\n",
    "# TODO: How do you know the horse is in the chute and ready to start the trial?"
   ]
  },
  {
   "cell_type": "code",
   "execution_count": 10,
   "metadata": {},
   "outputs": [],
   "source": [
    "# Trial parameters\n",
    "\n",
    "ACTIVATION_TIMEOUT_SEC = 5\n",
    "WAIT_AFTER_CORRECT_RESPONSE_SEC = 3\n",
    "FEED_CONSUMPTION_TIMEOUT_SEC = 15\n",
    "TRIAL_TIMEOUT_SEC = 60"
   ]
  },
  {
   "cell_type": "code",
   "execution_count": 11,
   "metadata": {},
   "outputs": [],
   "source": [
    "trial_parameters_names = [\n",
    "    \"ACTIVATION_TIMEOUT_SEC\",\n",
    "    \"WAIT_AFTER_CORRECT_RESPONSE_SEC\",\n",
    "    \"FEED_CONSUMPTION_TIMEOUT_SEC\",\n",
    "    \"TRIAL_TIMEOUT_SEC\",\n",
    "]"
   ]
  },
  {
   "cell_type": "code",
   "execution_count": 12,
   "metadata": {},
   "outputs": [],
   "source": [
    "def log_trial_parameters(\n",
    "    trial_parameters_names=trial_parameters_names,\n",
    "    log_file=DATA_DIR / \"trial_parameters_log.txt\",\n",
    "):\n",
    "    trial_parameters = {key: eval(key) for key in trial_parameters_names}\n",
    "\n",
    "    \"\"\"Log the trial parameters to a file.\"\"\"\n",
    "    with open(log_file, \"a\") as f:\n",
    "        f.write(f\"TRIAL PARAMETERS: {trial_parameters}\\n\")\n",
    "    print(f\"Logged - TRIAL PARAMETERS: {trial_parameters}\\n\")\n",
    "    return None"
   ]
  },
  {
   "cell_type": "code",
   "execution_count": 13,
   "metadata": {},
   "outputs": [],
   "source": [
    "def play_correct_response_tone():\n",
    "    \"\"\"Play the correct response tone.\"\"\"\n",
    "    log_event(\"Start playing correct response tone\", dt.now())\n",
    "    play_beep(duration=1)\n",
    "    log_event(\"Finished playing correct response tone\", dt.now())\n",
    "    return None"
   ]
  },
  {
   "cell_type": "code",
   "execution_count": 14,
   "metadata": {},
   "outputs": [],
   "source": [
    "def dispense_feed():\n",
    "    \"\"\"Dispense feed.\"\"\"\n",
    "    log_event(\"Dispensing feed\", dt.now())\n",
    "    # code to dispense feed\n",
    "    return None"
   ]
  },
  {
   "cell_type": "code",
   "execution_count": 15,
   "metadata": {},
   "outputs": [
    {
     "name": "stdout",
     "output_type": "stream",
     "text": [
      "Logged - TRIAL PARAMETERS: {'ACTIVATION_TIMEOUT_SEC': 5, 'WAIT_AFTER_CORRECT_RESPONSE_SEC': 3, 'FEED_CONSUMPTION_TIMEOUT_SEC': 15, 'TRIAL_TIMEOUT_SEC': 60}\n",
      "\n",
      "Logged - 2023-06-22 20:49:30.040907: Playing buzzer for 1 seconds\n",
      "\n",
      "Logged - 2023-06-22 20:49:31.222672: Start buzzer finished\n",
      "\n",
      "Logged - 2023-06-22 20:49:34.841700: Touch sensor activated after 3.618547 seconds\n",
      "\n",
      "Logged - 2023-06-22 20:49:34.843347: Start playing correct response tone\n",
      "\n",
      "Logged - 2023-06-22 20:49:35.911491: Finished playing correct response tone\n",
      "\n",
      "Logged - 2023-06-22 20:49:35.912196: Waiting after correct response finished for 3 seconds\n",
      "\n",
      "Logged - 2023-06-22 20:49:38.917859: Dispensing feed\n",
      "\n",
      "Logged - 2023-06-22 20:49:38.918545: Waiting after feed dispensed for 3 seconds\n",
      "\n",
      "Logged - 2023-06-22 20:49:53.924450: Trial ends\n",
      "\n"
     ]
    }
   ],
   "source": [
    "# Experiment trial\n",
    "\n",
    "log_trial_parameters()\n",
    "\n",
    "# Event 0: Horse enters test chute - how does the experimenter know this?\n",
    "\n",
    "# Event 1: Start tone - 1 sec duration\n",
    "\n",
    "duration = 1\n",
    "log_event(f\"Playing buzzer for {duration} seconds\", dt.now())\n",
    "play_beep(duration)\n",
    "log_event(\"Start buzzer finished\", dt.now())\n",
    "\n",
    "# Event 2: Activation of touch sensor (nose press on panel)\n",
    "\n",
    "start_sensor_period = dt.now()\n",
    "activate_touch_sensor = False\n",
    "\n",
    "while (dt.now() - start_sensor_period).seconds < ACTIVATION_TIMEOUT_SEC:\n",
    "    sleep(0.9)\n",
    "    if random.random() < 0.2:  # simulate touch sensor activation\n",
    "        touch_latency = (dt.now() - start_sensor_period).total_seconds()\n",
    "        log_event(f\"Touch sensor activated after {touch_latency} seconds\", dt.now())\n",
    "        activate_touch_sensor = True\n",
    "        # reset_touch_sensor()\n",
    "        play_correct_response_tone()\n",
    "        log_event(\n",
    "            f\"Waiting after correct response finished for {WAIT_AFTER_CORRECT_RESPONSE_SEC} seconds\",\n",
    "            dt.now(),\n",
    "        )\n",
    "        sleep(WAIT_AFTER_CORRECT_RESPONSE_SEC)\n",
    "        dispense_feed()\n",
    "        log_event(\n",
    "            f\"Waiting after feed dispensed for {WAIT_AFTER_CORRECT_RESPONSE_SEC} seconds\",\n",
    "            dt.now(),\n",
    "        )\n",
    "        sleep(FEED_CONSUMPTION_TIMEOUT_SEC)\n",
    "        break\n",
    "if not activate_touch_sensor:\n",
    "    log_event(\n",
    "        f\"Touch sensor not activated after {ACTIVATION_TIMEOUT_SEC} seconds\", dt.now()\n",
    "    )\n",
    "\n",
    "# Event 3: Correct response tone - 0.5 sec duration\n",
    "\n",
    "log_event(\"Trial ends\", dt.now())"
   ]
  },
  {
   "cell_type": "code",
   "execution_count": null,
   "metadata": {},
   "outputs": [],
   "source": []
  }
 ],
 "metadata": {
  "kernelspec": {
   "display_name": ".venv",
   "language": "python",
   "name": "python3"
  },
  "language_info": {
   "codemirror_mode": {
    "name": "ipython",
    "version": 3
   },
   "file_extension": ".py",
   "mimetype": "text/x-python",
   "name": "python",
   "nbconvert_exporter": "python",
   "pygments_lexer": "ipython3",
   "version": "3.9.17"
  },
  "orig_nbformat": 4
 },
 "nbformat": 4,
 "nbformat_minor": 2
}
